{
  "nbformat": 4,
  "nbformat_minor": 0,
  "metadata": {
    "colab": {
      "provenance": [],
      "authorship_tag": "ABX9TyMr/DrVsOLRmT3EbqtJ/GIV",
      "include_colab_link": true
    },
    "kernelspec": {
      "name": "python3",
      "display_name": "Python 3"
    },
    "language_info": {
      "name": "python"
    }
  },
  "cells": [
    {
      "cell_type": "markdown",
      "metadata": {
        "id": "view-in-github",
        "colab_type": "text"
      },
      "source": [
        "<a href=\"https://colab.research.google.com/github/atrabaja/MachineLearning_FinMark/blob/main/MS1.ipynb\" target=\"_parent\"><img src=\"https://colab.research.google.com/assets/colab-badge.svg\" alt=\"Open In Colab\"/></a>"
      ]
    },
    {
      "cell_type": "code",
      "source": [
        "from google.colab import drive\n",
        "drive.mount('/content/drive')"
      ],
      "metadata": {
        "colab": {
          "base_uri": "https://localhost:8080/"
        },
        "id": "G1AtT4ET4utK",
        "outputId": "0da13a4e-a85b-47b7-b0ab-8be8c729071f"
      },
      "execution_count": 382,
      "outputs": [
        {
          "output_type": "stream",
          "name": "stdout",
          "text": [
            "Drive already mounted at /content/drive; to attempt to forcibly remount, call drive.mount(\"/content/drive\", force_remount=True).\n"
          ]
        }
      ]
    },
    {
      "cell_type": "code",
      "source": [
        "import os\n",
        "data_path = '/content/drive/MyDrive'"
      ],
      "metadata": {
        "id": "xk22DoupZjOr"
      },
      "execution_count": 383,
      "outputs": []
    },
    {
      "cell_type": "code",
      "source": [
        "# Import libraries\n",
        "import pandas as pd\n",
        "import numpy as np\n",
        "from sklearn.model_selection import train_test_split\n",
        "from sklearn.ensemble import RandomForestClassifier\n",
        "from sklearn.metrics import classification_report, accuracy_score"
      ],
      "metadata": {
        "id": "zX6JhoEAvcDx"
      },
      "execution_count": 384,
      "outputs": []
    },
    {
      "cell_type": "code",
      "source": [
        "# Define file paths\n",
        "customers_file_path = '/content/drive/My Drive/customers_data.csv'\n",
        "products_file_path = '/content/drive/My Drive/products_data.csv'\n",
        "transactions_file_path = '/content/drive/My Drive/transactions_data.csv'"
      ],
      "metadata": {
        "id": "Td2CG2sY0ydG"
      },
      "execution_count": 385,
      "outputs": []
    },
    {
      "cell_type": "code",
      "source": [
        "# Load datasets\n",
        "customers_data = pd.read_csv(customers_file_path)\n",
        "products_data = pd.read_csv(products_file_path)\n",
        "transactions_data = pd.read_csv(transactions_file_path)\n",
        "\n",
        "# Display the first few rows of each dataset\n",
        "print(customers_data.head())\n",
        "print(products_data.head())\n",
        "print(transactions_data.head())"
      ],
      "metadata": {
        "colab": {
          "base_uri": "https://localhost:8080/"
        },
        "id": "sTXgJ6-L_c2z",
        "outputId": "1a695f86-ae17-4a65-89d7-0f4bd15b17da"
      },
      "execution_count": 386,
      "outputs": [
        {
          "output_type": "stream",
          "name": "stdout",
          "text": [
            "   Company_ID          Company_Name  Company_Profit  \\\n",
            "0         1.0  Tech  Enterprises  1         80701.0   \n",
            "1         2.0   Global  Partners  2         80511.0   \n",
            "2         3.0  Quantum Associates 3        110664.0   \n",
            "3         4.0       Prime Network 4             NaN   \n",
            "4         5.0    Elite  Ventures  5         69427.0   \n",
            "\n",
            "                                             Address  \n",
            "0             EDSA, Barangay 606, Pasig, Philippines  \n",
            "1  Commonwealth Ave, Barangay 789, Taguig, Philip...  \n",
            "2       Roxas Blvd, Barangay 505, Pasig, Philippines  \n",
            "3  Alabang-Zapote Rd, Barangay 202, Taguig, Phili...  \n",
            "4    Ayala Avenue, Barangay 101, Makati, Philippines  \n",
            "   Product_ID            Product_Name Product_Price\n",
            "0         1.0      FinPredictor Suite      ?140,000\n",
            "1         2.0  MarketMinder Analytics      ?168,000\n",
            "2         3.0    TrendWise Forecaster      ?100,800\n",
            "3         4.0  CustomerScope Insights      ?123,200\n",
            "4         5.0     SalesSync Optimizer       ?84,000\n",
            "   Unnamed: 0  Transaction_ID  Company_ID  Product_ID  Quantity  \\\n",
            "0         0.0             1.0        88.0         6.0       NaN   \n",
            "1         1.0             2.0        29.0        19.0      16.0   \n",
            "2         2.0             NaN        28.0        18.0       6.0   \n",
            "3         3.0             4.0        85.0        12.0      12.0   \n",
            "4         4.0             5.0        47.0         3.0       8.0   \n",
            "\n",
            "  Transaction_Date  Product_Price  Total_Cost  \n",
            "0       2024/03/26  194379.147964   1075200.0  \n",
            "1    July 09, 2024   97930.993380   1428000.0  \n",
            "2       04/13/2024  126095.547778    940800.0  \n",
            "3       09-06-2023            NaN   1008000.0  \n",
            "4       07/06/2021   99575.609634    705600.0  \n"
          ]
        }
      ]
    },
    {
      "cell_type": "code",
      "source": [
        "# Preprocessing Customers Data\n",
        "# Identify rows with missing Company_ID\n",
        "missing_ids = customers_data[customers_data['Company_ID'].isnull()]\n",
        "\n",
        "# Map existing Company_IDs to rows with missing IDs based on matching columns\n",
        "customers_data['Company_ID'] = customers_data['Company_ID'].fillna(\n",
        "    customers_data.merge(\n",
        "        customers_data[['Company_ID', 'Company_Name', 'Address', 'Company_Profit']].dropna(subset=['Company_ID']),\n",
        "        on=['Company_Name', 'Address', 'Company_Profit'],\n",
        "        how='left'\n",
        "    )['Company_ID_y']\n",
        ")"
      ],
      "metadata": {
        "id": "GO52nJqo7nHG"
      },
      "execution_count": 387,
      "outputs": []
    },
    {
      "cell_type": "code",
      "source": [
        "# Find the maximum existing Company_ID\n",
        "max_id = customers_data['Company_ID'].max()\n",
        "\n",
        "# Assign unique IDs to remaining missing rows\n",
        "customers_data.loc[customers_data['Company_ID'].isnull(), 'Company_ID'] = range(\n",
        "    int(max_id) + 1, int(max_id) + 1 + customers_data['Company_ID'].isnull().sum()\n",
        ")\n",
        "\n",
        "# Convert Company_ID to integer type\n",
        "customers_data['Company_ID'] = customers_data['Company_ID'].astype(int)"
      ],
      "metadata": {
        "id": "q9Ik_Esw7pou"
      },
      "execution_count": 388,
      "outputs": []
    },
    {
      "cell_type": "code",
      "source": [
        "# Check for duplicates based on Company_Name, Address, and Company_Profit\n",
        "duplicates = customers_data[customers_data.duplicated(subset=['Company_Name', 'Address', 'Company_Profit'], keep=False)]\n",
        "print(duplicates)\n",
        "\n",
        "# Drop duplicates if necessary\n",
        "customers_data = customers_data.drop_duplicates(subset=['Company_Name', 'Address', 'Company_Profit'], keep='first')"
      ],
      "metadata": {
        "colab": {
          "base_uri": "https://localhost:8080/"
        },
        "id": "eC7Jjy3f7wy-",
        "outputId": "3952b126-4ec8-4158-b19c-5b43f6b98b3b"
      },
      "execution_count": 389,
      "outputs": [
        {
          "output_type": "stream",
          "name": "stdout",
          "text": [
            "Empty DataFrame\n",
            "Columns: [Company_ID, Company_Name, Company_Profit, Address]\n",
            "Index: []\n"
          ]
        }
      ]
    },
    {
      "cell_type": "code",
      "source": [
        "# Verify there are no missing values or duplicates\n",
        "print(customers_data.isnull().sum())\n",
        "print(customers_data.duplicated().sum())\n",
        "\n",
        "# Display dataset summary\n",
        "print(customers_data.info())\n",
        "print(customers_data.head())"
      ],
      "metadata": {
        "colab": {
          "base_uri": "https://localhost:8080/"
        },
        "id": "A1yeM7Ma74-L",
        "outputId": "2ff09f95-1400-4b11-c05c-df012fd7c9cb"
      },
      "execution_count": 390,
      "outputs": [
        {
          "output_type": "stream",
          "name": "stdout",
          "text": [
            "Company_ID         0\n",
            "Company_Name       0\n",
            "Company_Profit    12\n",
            "Address            0\n",
            "dtype: int64\n",
            "0\n",
            "<class 'pandas.core.frame.DataFrame'>\n",
            "RangeIndex: 100 entries, 0 to 99\n",
            "Data columns (total 4 columns):\n",
            " #   Column          Non-Null Count  Dtype  \n",
            "---  ------          --------------  -----  \n",
            " 0   Company_ID      100 non-null    int64  \n",
            " 1   Company_Name    100 non-null    object \n",
            " 2   Company_Profit  88 non-null     float64\n",
            " 3   Address         100 non-null    object \n",
            "dtypes: float64(1), int64(1), object(2)\n",
            "memory usage: 3.3+ KB\n",
            "None\n",
            "   Company_ID          Company_Name  Company_Profit  \\\n",
            "0           1  Tech  Enterprises  1         80701.0   \n",
            "1           2   Global  Partners  2         80511.0   \n",
            "2           3  Quantum Associates 3        110664.0   \n",
            "3           4       Prime Network 4             NaN   \n",
            "4           5    Elite  Ventures  5         69427.0   \n",
            "\n",
            "                                             Address  \n",
            "0             EDSA, Barangay 606, Pasig, Philippines  \n",
            "1  Commonwealth Ave, Barangay 789, Taguig, Philip...  \n",
            "2       Roxas Blvd, Barangay 505, Pasig, Philippines  \n",
            "3  Alabang-Zapote Rd, Barangay 202, Taguig, Phili...  \n",
            "4    Ayala Avenue, Barangay 101, Makati, Philippines  \n"
          ]
        }
      ]
    },
    {
      "cell_type": "code",
      "source": [
        "# Remove numbers from the Company_Name column\n",
        "customers_data['Company_Name'] = customers_data['Company_Name'].str.replace(r'\\d+', '', regex=True).str.strip()\n",
        "\n",
        "# Verify the changes\n",
        "print(customers_data['Company_Name'].head())"
      ],
      "metadata": {
        "colab": {
          "base_uri": "https://localhost:8080/"
        },
        "id": "67c8Blkc8Xqm",
        "outputId": "88d21530-4e97-457a-b91c-cdf697256f03"
      },
      "execution_count": 391,
      "outputs": [
        {
          "output_type": "stream",
          "name": "stdout",
          "text": [
            "0     Tech  Enterprises\n",
            "1      Global  Partners\n",
            "2    Quantum Associates\n",
            "3         Prime Network\n",
            "4       Elite  Ventures\n",
            "Name: Company_Name, dtype: object\n"
          ]
        }
      ]
    },
    {
      "cell_type": "code",
      "source": [
        "# Fill missing Company_Profit based on Address group median\n",
        "customers_data['Company_Profit'] = customers_data.groupby('Address')['Company_Profit'].transform(\n",
        "    lambda x: x.fillna(x.median())\n",
        ")"
      ],
      "metadata": {
        "id": "rNRqxzuz8X6e"
      },
      "execution_count": 392,
      "outputs": []
    },
    {
      "cell_type": "code",
      "source": [
        "# Verify no missing values remain\n",
        "print(customers_data.isnull().sum())\n",
        "\n",
        "# Display updated dataset\n",
        "print(customers_data.head())"
      ],
      "metadata": {
        "colab": {
          "base_uri": "https://localhost:8080/"
        },
        "id": "qfncHAPi-RAg",
        "outputId": "6b7b212b-fd48-4026-8388-377f26bbc5b5"
      },
      "execution_count": 393,
      "outputs": [
        {
          "output_type": "stream",
          "name": "stdout",
          "text": [
            "Company_ID         0\n",
            "Company_Name       0\n",
            "Company_Profit    12\n",
            "Address            0\n",
            "dtype: int64\n",
            "   Company_ID        Company_Name  Company_Profit  \\\n",
            "0           1   Tech  Enterprises         80701.0   \n",
            "1           2    Global  Partners         80511.0   \n",
            "2           3  Quantum Associates        110664.0   \n",
            "3           4       Prime Network             NaN   \n",
            "4           5     Elite  Ventures         69427.0   \n",
            "\n",
            "                                             Address  \n",
            "0             EDSA, Barangay 606, Pasig, Philippines  \n",
            "1  Commonwealth Ave, Barangay 789, Taguig, Philip...  \n",
            "2       Roxas Blvd, Barangay 505, Pasig, Philippines  \n",
            "3  Alabang-Zapote Rd, Barangay 202, Taguig, Phili...  \n",
            "4    Ayala Avenue, Barangay 101, Makati, Philippines  \n"
          ]
        }
      ]
    },
    {
      "cell_type": "code",
      "source": [
        "# Cleaned customer data\n",
        "customers_data.to_csv('/content/drive/MyDrive/cleaned_customers_data.csv', index=False)"
      ],
      "metadata": {
        "id": "ah0KEdDD_QHe"
      },
      "execution_count": 394,
      "outputs": []
    },
    {
      "cell_type": "code",
      "source": [
        "# Preprocessing Transactions Data\n",
        "# Check basic info\n",
        "print(transactions_data.info())\n",
        "print(transactions_data.head())\n",
        "\n",
        "# Check for missing values\n",
        "print(transactions_data.isnull().sum())"
      ],
      "metadata": {
        "colab": {
          "base_uri": "https://localhost:8080/"
        },
        "id": "7sKuq6Z2_acS",
        "outputId": "2438f99e-f131-4515-ed61-12849593321f"
      },
      "execution_count": 395,
      "outputs": [
        {
          "output_type": "stream",
          "name": "stdout",
          "text": [
            "<class 'pandas.core.frame.DataFrame'>\n",
            "RangeIndex: 10000 entries, 0 to 9999\n",
            "Data columns (total 8 columns):\n",
            " #   Column            Non-Null Count  Dtype  \n",
            "---  ------            --------------  -----  \n",
            " 0   Unnamed: 0        9000 non-null   float64\n",
            " 1   Transaction_ID    9000 non-null   float64\n",
            " 2   Company_ID        9000 non-null   float64\n",
            " 3   Product_ID        9000 non-null   float64\n",
            " 4   Quantity          9000 non-null   float64\n",
            " 5   Transaction_Date  10000 non-null  object \n",
            " 6   Product_Price     9000 non-null   float64\n",
            " 7   Total_Cost        9000 non-null   float64\n",
            "dtypes: float64(7), object(1)\n",
            "memory usage: 625.1+ KB\n",
            "None\n",
            "   Unnamed: 0  Transaction_ID  Company_ID  Product_ID  Quantity  \\\n",
            "0         0.0             1.0        88.0         6.0       NaN   \n",
            "1         1.0             2.0        29.0        19.0      16.0   \n",
            "2         2.0             NaN        28.0        18.0       6.0   \n",
            "3         3.0             4.0        85.0        12.0      12.0   \n",
            "4         4.0             5.0        47.0         3.0       8.0   \n",
            "\n",
            "  Transaction_Date  Product_Price  Total_Cost  \n",
            "0       2024/03/26  194379.147964   1075200.0  \n",
            "1    July 09, 2024   97930.993380   1428000.0  \n",
            "2       04/13/2024  126095.547778    940800.0  \n",
            "3       09-06-2023            NaN   1008000.0  \n",
            "4       07/06/2021   99575.609634    705600.0  \n",
            "Unnamed: 0          1000\n",
            "Transaction_ID      1000\n",
            "Company_ID          1000\n",
            "Product_ID          1000\n",
            "Quantity            1000\n",
            "Transaction_Date       0\n",
            "Product_Price       1000\n",
            "Total_Cost          1000\n",
            "dtype: int64\n"
          ]
        }
      ]
    },
    {
      "cell_type": "code",
      "source": [
        "# Dropped unnamed column\n",
        "transactions_data = transactions_data.drop(columns=['Unnamed: 0'])"
      ],
      "metadata": {
        "id": "-RMhtwbqDtH_"
      },
      "execution_count": 396,
      "outputs": []
    },
    {
      "cell_type": "code",
      "source": [
        "# Handle Missing Values - Quality\n",
        "transactions_data['Quantity'] = transactions_data['Quantity'].fillna(transactions_data['Quantity'].median())"
      ],
      "metadata": {
        "id": "CKuiOxUC_bhT"
      },
      "execution_count": 397,
      "outputs": []
    },
    {
      "cell_type": "code",
      "source": [
        "# Handle Missing Values - Product Price\n",
        "transactions_data['Product_Price'] = transactions_data['Product_Price'].fillna(transactions_data['Product_Price'].median())"
      ],
      "metadata": {
        "id": "3mr9td5tBo1e"
      },
      "execution_count": 398,
      "outputs": []
    },
    {
      "cell_type": "code",
      "source": [
        "# Display unique formats in Transaction_Date\n",
        "print(\"Unique formats in Transaction_Date before conversion:\\n\", transactions_data['Transaction_Date'].unique())\n",
        "\n",
        "# Define a function to parse different date formats\n",
        "def parse_date(date_str):\n",
        "    # Attempt to parse several known formats\n",
        "    for fmt in ('%Y-%m-%d', '%d-%m-%Y', '%m-%d-%Y', '%Y/%m/%d', '%d/%m/%Y', '%m/%d/%Y', '%B %d, %Y', '%d %B %Y'):\n",
        "        try:\n",
        "            return pd.to_datetime(date_str, format=fmt)\n",
        "        except (ValueError, TypeError):\n",
        "            continue  # Try the next format if this one fails\n",
        "    return pd.NaT  # Return NaT if no formats worked\n",
        "\n",
        "# Apply the parsing function\n",
        "transactions_data['Transaction_Date'] = transactions_data['Transaction_Date'].apply(parse_date)\n",
        "\n",
        "# Check for NaT values after parsing\n",
        "nat_count = transactions_data['Transaction_Date'].isna().sum()\n",
        "print(\"NaT values in Transaction_Date column after conversion:\", nat_count)\n",
        "\n",
        "# Inspect problematic entries if there are any NaT values\n",
        "if nat_count > 0:\n",
        "    print(\"Remaining problematic date entries:\\n\", transactions_data[transactions_data['Transaction_Date'].isna()]['Transaction_Date'])\n",
        "\n",
        "# Confirm the data type of Transaction_Date after all conversions\n",
        "print(\"Data type of Transaction_Date after final conversion:\", transactions_data['Transaction_Date'].dtypes)"
      ],
      "metadata": {
        "colab": {
          "base_uri": "https://localhost:8080/"
        },
        "id": "HxINDX22CVBP",
        "outputId": "f8813be4-dcdb-4941-ddc8-a83235c7e175"
      },
      "execution_count": 400,
      "outputs": [
        {
          "output_type": "stream",
          "name": "stdout",
          "text": [
            "Unique formats in Transaction_Date before conversion:\n",
            " <DatetimeArray>\n",
            "['2024-03-26 00:00:00', '2024-07-09 00:00:00', '2024-04-13 00:00:00',\n",
            " '2023-06-09 00:00:00', '2021-06-07 00:00:00', '2021-07-12 00:00:00',\n",
            " '2023-11-01 00:00:00', '2023-10-31 00:00:00', '2024-02-25 00:00:00',\n",
            " '2021-03-29 00:00:00',\n",
            " ...\n",
            " '2022-11-30 00:00:00', '2024-03-16 00:00:00', '2020-06-11 00:00:00',\n",
            " '2020-01-12 00:00:00', '2022-07-13 00:00:00', '2024-11-08 00:00:00',\n",
            " '2024-12-04 00:00:00', '2023-11-04 00:00:00', '2020-03-12 00:00:00',\n",
            " '2024-12-09 00:00:00']\n",
            "Length: 1490, dtype: datetime64[ns]\n",
            "NaT values in Transaction_Date column after conversion: 0\n",
            "Data type of Transaction_Date after final conversion: datetime64[ns]\n"
          ]
        }
      ]
    },
    {
      "cell_type": "code",
      "source": [
        "# Final check of the dataset\n",
        "print(transactions_data.info())\n",
        "print(transactions_data.head())"
      ],
      "metadata": {
        "colab": {
          "base_uri": "https://localhost:8080/"
        },
        "id": "N1XyqKJ7CVR-",
        "outputId": "0973735e-a1e5-44c1-8ca9-3e45923c63cb"
      },
      "execution_count": 401,
      "outputs": [
        {
          "output_type": "stream",
          "name": "stdout",
          "text": [
            "<class 'pandas.core.frame.DataFrame'>\n",
            "RangeIndex: 10000 entries, 0 to 9999\n",
            "Data columns (total 7 columns):\n",
            " #   Column            Non-Null Count  Dtype         \n",
            "---  ------            --------------  -----         \n",
            " 0   Transaction_ID    9000 non-null   float64       \n",
            " 1   Company_ID        9000 non-null   float64       \n",
            " 2   Product_ID        9000 non-null   float64       \n",
            " 3   Quantity          10000 non-null  float64       \n",
            " 4   Transaction_Date  10000 non-null  datetime64[ns]\n",
            " 5   Product_Price     10000 non-null  float64       \n",
            " 6   Total_Cost        9000 non-null   float64       \n",
            "dtypes: datetime64[ns](1), float64(6)\n",
            "memory usage: 547.0 KB\n",
            "None\n",
            "   Transaction_ID  Company_ID  Product_ID  Quantity Transaction_Date  \\\n",
            "0             1.0        88.0         6.0      11.0       2024-03-26   \n",
            "1             2.0        29.0        19.0      16.0       2024-07-09   \n",
            "2             NaN        28.0        18.0       6.0       2024-04-13   \n",
            "3             4.0        85.0        12.0      12.0       2023-06-09   \n",
            "4             5.0        47.0         3.0       8.0       2021-06-07   \n",
            "\n",
            "   Product_Price  Total_Cost  \n",
            "0  194379.147964   1075200.0  \n",
            "1   97930.993380   1428000.0  \n",
            "2  126095.547778    940800.0  \n",
            "3  131297.783516   1008000.0  \n",
            "4   99575.609634    705600.0  \n"
          ]
        }
      ]
    },
    {
      "cell_type": "code",
      "source": [
        "# Verify Missing Values\n",
        "print(transactions_data.isnull().sum())"
      ],
      "metadata": {
        "colab": {
          "base_uri": "https://localhost:8080/"
        },
        "id": "c25Mlr4CDsbw",
        "outputId": "6aec4fe0-75e2-4185-b78a-0bb2cf7da4ab"
      },
      "execution_count": 402,
      "outputs": [
        {
          "output_type": "stream",
          "name": "stdout",
          "text": [
            "Transaction_ID      1000\n",
            "Company_ID          1000\n",
            "Product_ID          1000\n",
            "Quantity               0\n",
            "Transaction_Date       0\n",
            "Product_Price          0\n",
            "Total_Cost          1000\n",
            "dtype: int64\n"
          ]
        }
      ]
    },
    {
      "cell_type": "code",
      "source": [
        "# Identify rows with missing Transaction_ID\n",
        "missing_transaction_ids = transactions_data[transactions_data['Transaction_ID'].isnull()]\n",
        "print(missing_transaction_ids)"
      ],
      "metadata": {
        "colab": {
          "base_uri": "https://localhost:8080/"
        },
        "id": "-NU4d97RFoAW",
        "outputId": "59576b0c-202a-4e88-cc05-efb77fea6ebc"
      },
      "execution_count": 403,
      "outputs": [
        {
          "output_type": "stream",
          "name": "stdout",
          "text": [
            "      Transaction_ID  Company_ID  Product_ID  Quantity Transaction_Date  \\\n",
            "2                NaN        28.0        18.0       6.0       2024-04-13   \n",
            "17               NaN        57.0        10.0       6.0       2022-07-10   \n",
            "21               NaN        25.0        18.0       2.0       2021-03-21   \n",
            "25               NaN        93.0         9.0      11.0       2021-09-21   \n",
            "55               NaN         NaN        11.0      16.0       2023-03-08   \n",
            "...              ...         ...         ...       ...              ...   \n",
            "9981             NaN         NaN         5.0      11.0       2022-03-29   \n",
            "9984             NaN        93.0        19.0      11.0       2021-03-25   \n",
            "9995             NaN         NaN        10.0      11.0       2022-06-05   \n",
            "9997             NaN        90.0         1.0      15.0       2022-07-19   \n",
            "9999             NaN        77.0        16.0      14.0       2023-10-29   \n",
            "\n",
            "      Product_Price  Total_Cost  \n",
            "2     126095.547778    940800.0  \n",
            "17    131297.783516    627200.0  \n",
            "21    123745.158042         NaN  \n",
            "25    131297.783516   1792000.0  \n",
            "55    169357.608317   2665600.0  \n",
            "...             ...         ...  \n",
            "9981  131297.783516    672000.0  \n",
            "9984   95504.301714    952000.0  \n",
            "9995  131297.783516    627200.0  \n",
            "9997  128137.094759   1960000.0  \n",
            "9999  115708.404715   1489600.0  \n",
            "\n",
            "[1000 rows x 7 columns]\n"
          ]
        }
      ]
    },
    {
      "cell_type": "code",
      "source": [
        "# Assign unique identifiers\n",
        "# Find the maximum existing Transaction_ID\n",
        "max_transaction_id = transactions_data['Transaction_ID'].max()\n",
        "\n",
        "# Assign unique IDs to missing Transaction_IDs\n",
        "transactions_data.loc[transactions_data['Transaction_ID'].isnull(), 'Transaction_ID'] = range(\n",
        "    int(max_transaction_id) + 1,\n",
        "    int(max_transaction_id) + 1 + transactions_data['Transaction_ID'].isnull().sum()\n",
        ")\n",
        "\n",
        "# Convert Transaction_ID to integer type (if necessary)\n",
        "transactions_data['Transaction_ID'] = transactions_data['Transaction_ID'].astype(int)\n",
        "\n",
        "# Verify updates\n",
        "print(transactions_data['Transaction_ID'].isnull().sum())"
      ],
      "metadata": {
        "colab": {
          "base_uri": "https://localhost:8080/"
        },
        "id": "g5CIvlhNFoSg",
        "outputId": "217d44de-a951-440f-c0b2-67abe9eb2e05"
      },
      "execution_count": 404,
      "outputs": [
        {
          "output_type": "stream",
          "name": "stdout",
          "text": [
            "0\n"
          ]
        }
      ]
    },
    {
      "cell_type": "code",
      "source": [
        "# Identify rows with missing Company ID\n",
        "missing_company_id = transactions_data[transactions_data['Company_ID'].isnull()]\n",
        "print(\"Rows with missing Company_ID:\\n\", missing_company_id)"
      ],
      "metadata": {
        "colab": {
          "base_uri": "https://localhost:8080/"
        },
        "id": "I2isTECbHuUv",
        "outputId": "c997c76b-7b5d-4f0a-a989-b9175f720dcf"
      },
      "execution_count": 405,
      "outputs": [
        {
          "output_type": "stream",
          "name": "stdout",
          "text": [
            "Rows with missing Company_ID:\n",
            "       Transaction_ID  Company_ID  Product_ID  Quantity Transaction_Date  \\\n",
            "6                  7         NaN         NaN      14.0       2023-11-01   \n",
            "11                12         NaN         1.0      17.0       2022-04-05   \n",
            "12                13         NaN        12.0      15.0       2023-02-27   \n",
            "26                27         NaN        14.0      18.0       2023-03-01   \n",
            "36                37         NaN         8.0      17.0       2023-03-16   \n",
            "...              ...         ...         ...       ...              ...   \n",
            "9962            9963         NaN        13.0       3.0       2023-03-14   \n",
            "9965            9966         NaN         NaN       2.0       2022-11-13   \n",
            "9972            9973         NaN         NaN      11.0       2021-04-20   \n",
            "9981           10995         NaN         5.0      11.0       2022-03-29   \n",
            "9995           10997         NaN        10.0      11.0       2022-06-05   \n",
            "\n",
            "      Product_Price  Total_Cost  \n",
            "6     133548.749710   1960000.0  \n",
            "11    135382.949609   2520000.0  \n",
            "12     82352.482649   1260000.0  \n",
            "26    124948.881115   2447200.0  \n",
            "36    139881.217277         NaN  \n",
            "...             ...         ...  \n",
            "9962  192970.776088    588000.0  \n",
            "9965   80195.987431    168000.0  \n",
            "9972  120952.884714    386400.0  \n",
            "9981  131297.783516    672000.0  \n",
            "9995  131297.783516    627200.0  \n",
            "\n",
            "[1000 rows x 7 columns]\n"
          ]
        }
      ]
    },
    {
      "cell_type": "code",
      "source": [
        "# Infer Company ID with other columns\n",
        "# Create a mapping of Product_ID to Company_ID from rows where Company_ID is not null\n",
        "product_to_company_map = transactions_data.dropna(subset=['Company_ID']).groupby('Product_ID')['Company_ID'].first()\n",
        "\n",
        "# Use the mapping to fill missing Company_ID values\n",
        "transactions_data['Company_ID'] = transactions_data.apply(\n",
        "    lambda row: product_to_company_map[row['Product_ID']] if pd.isnull(row['Company_ID']) and row['Product_ID'] in product_to_company_map else row['Company_ID'],\n",
        "    axis=1\n",
        ")"
      ],
      "metadata": {
        "id": "mL7ktKw4Jt3T"
      },
      "execution_count": 408,
      "outputs": []
    },
    {
      "cell_type": "code",
      "source": [
        "# Recheck missing values\n",
        "print(transactions_data['Company_ID'].isnull().sum())"
      ],
      "metadata": {
        "colab": {
          "base_uri": "https://localhost:8080/"
        },
        "id": "miLAVQtVKJof",
        "outputId": "38f27ee0-9704-4645-d77b-f1f206428115"
      },
      "execution_count": 409,
      "outputs": [
        {
          "output_type": "stream",
          "name": "stdout",
          "text": [
            "93\n"
          ]
        }
      ]
    },
    {
      "cell_type": "code",
      "source": [
        "# Investigate remaining missing rows\n",
        "remaining_missing = transactions_data[transactions_data['Company_ID'].isnull()]\n",
        "print(\"Remaining rows with missing Company_ID:\\n\", remaining_missing)"
      ],
      "metadata": {
        "colab": {
          "base_uri": "https://localhost:8080/"
        },
        "id": "C2c4M3v9KiLg",
        "outputId": "9ee581cb-3ed0-4ddb-a624-e4c81bc8965f"
      },
      "execution_count": 410,
      "outputs": [
        {
          "output_type": "stream",
          "name": "stdout",
          "text": [
            "Remaining rows with missing Company_ID:\n",
            "       Transaction_ID  Company_ID  Product_ID  Quantity Transaction_Date  \\\n",
            "6                  7         NaN         NaN      14.0       2023-11-01   \n",
            "41                42         NaN         NaN      18.0       2021-07-01   \n",
            "183              184         NaN         NaN      13.0       2021-04-20   \n",
            "292            10028         NaN         NaN       9.0       2021-04-03   \n",
            "299              300         NaN         NaN      15.0       2023-08-14   \n",
            "...              ...         ...         ...       ...              ...   \n",
            "9769            9770         NaN         NaN       9.0       2022-01-08   \n",
            "9773            9774         NaN         NaN      13.0       2023-04-07   \n",
            "9907            9908         NaN         NaN      11.0       2022-04-22   \n",
            "9965            9966         NaN         NaN       2.0       2022-11-13   \n",
            "9972            9973         NaN         NaN      11.0       2021-04-20   \n",
            "\n",
            "      Product_Price  Total_Cost  \n",
            "6     133548.749710   1960000.0  \n",
            "41     94403.783253   1808800.0  \n",
            "183   152364.727181         NaN  \n",
            "292    97541.870490    851200.0  \n",
            "299   140460.864719   1932000.0  \n",
            "...             ...         ...  \n",
            "9769  147652.272045   1075200.0  \n",
            "9773  105464.729456   1411200.0  \n",
            "9907   92053.985992    840000.0  \n",
            "9965   80195.987431    168000.0  \n",
            "9972  120952.884714    386400.0  \n",
            "\n",
            "[93 rows x 7 columns]\n"
          ]
        }
      ]
    },
    {
      "cell_type": "code",
      "source": [
        "# Check if rows with the same Transaction_Date have consistent Company_ID values.\n",
        "# Create a mapping from Transaction_Date to Company_ID\n",
        "date_to_company_map = transactions_data.dropna(subset=['Company_ID']).groupby('Transaction_Date')['Company_ID'].first()\n",
        "\n",
        "# Use this mapping to fill missing Company_ID values\n",
        "transactions_data['Company_ID'] = transactions_data.apply(\n",
        "    lambda row: date_to_company_map.get(row['Transaction_Date']) if pd.isnull(row['Company_ID']) and row['Transaction_Date'] in date_to_company_map else row['Company_ID'],\n",
        "    axis=1\n",
        ")"
      ],
      "metadata": {
        "id": "7LITNwqMORXl"
      },
      "execution_count": 411,
      "outputs": []
    },
    {
      "cell_type": "code",
      "source": [
        "# Recheck\n",
        "print(transactions_data['Company_ID'].isnull().sum())\n",
        "\n",
        "# Inspect remaining rows\n",
        "print(transactions_data[transactions_data['Company_ID'].isnull()])"
      ],
      "metadata": {
        "colab": {
          "base_uri": "https://localhost:8080/"
        },
        "id": "zQS2nGNVOeLE",
        "outputId": "3f27ec9c-d963-43e2-ea56-499eb8b48f53"
      },
      "execution_count": 413,
      "outputs": [
        {
          "output_type": "stream",
          "name": "stdout",
          "text": [
            "0\n",
            "Empty DataFrame\n",
            "Columns: [Transaction_ID, Company_ID, Product_ID, Quantity, Transaction_Date, Product_Price, Total_Cost]\n",
            "Index: []\n"
          ]
        }
      ]
    },
    {
      "cell_type": "code",
      "source": [
        "# Recalculate Total_Cost for missing values\n",
        "transactions_data['Total_Cost'] = transactions_data.apply(\n",
        "    lambda row: row['Quantity'] * row['Product_Price'] if pd.isnull(row['Total_Cost']) else row['Total_Cost'],\n",
        "    axis=1\n",
        ")\n",
        "# Recheck\n",
        "print(transactions_data.isnull().sum())"
      ],
      "metadata": {
        "colab": {
          "base_uri": "https://localhost:8080/"
        },
        "id": "OylfQlcPLObN",
        "outputId": "efb24a5a-36ce-4ad8-99c5-87e5490b6c54"
      },
      "execution_count": 414,
      "outputs": [
        {
          "output_type": "stream",
          "name": "stdout",
          "text": [
            "Transaction_ID         0\n",
            "Company_ID             0\n",
            "Product_ID          1000\n",
            "Quantity               0\n",
            "Transaction_Date       0\n",
            "Product_Price          0\n",
            "Total_Cost             0\n",
            "dtype: int64\n"
          ]
        }
      ]
    },
    {
      "cell_type": "code",
      "source": [
        "# Identify Rows with Missing Product_ID\n",
        "missing_product_id = transactions_data[transactions_data['Product_ID'].isnull()]\n",
        "print(\"Rows with missing Product_ID:\\n\", missing_product_id)"
      ],
      "metadata": {
        "colab": {
          "base_uri": "https://localhost:8080/"
        },
        "id": "drEpAnQFPVyT",
        "outputId": "941f9e3c-db4f-4f30-e5dd-481de806c0a3"
      },
      "execution_count": 416,
      "outputs": [
        {
          "output_type": "stream",
          "name": "stdout",
          "text": [
            "Rows with missing Product_ID:\n",
            "       Transaction_ID  Company_ID  Product_ID  Quantity Transaction_Date  \\\n",
            "6                  7        56.0         NaN      14.0       2023-11-01   \n",
            "41                42        79.0         NaN      18.0       2021-07-01   \n",
            "49                50        59.0         NaN       3.0       2023-01-13   \n",
            "52                53        40.0         NaN      17.0       2021-10-24   \n",
            "83                84        65.0         NaN      18.0       2023-04-22   \n",
            "...              ...         ...         ...       ...              ...   \n",
            "9961            9962         1.0         NaN       9.0       2022-05-07   \n",
            "9963            9964        34.0         NaN      15.0       2023-06-20   \n",
            "9965            9966        55.0         NaN       2.0       2022-11-13   \n",
            "9972            9973        67.0         NaN      11.0       2021-04-20   \n",
            "9998            9999        33.0         NaN      19.0       2021-04-15   \n",
            "\n",
            "      Product_Price  Total_Cost  \n",
            "6     133548.749710   1960000.0  \n",
            "41     94403.783253   1808800.0  \n",
            "49     86830.790650    380800.0  \n",
            "52    131297.783516   1915200.0  \n",
            "83    152629.413304   2856000.0  \n",
            "...             ...         ...  \n",
            "9961  131297.783516   1344000.0  \n",
            "9963  191980.676236   3136000.0  \n",
            "9965   80195.987431    168000.0  \n",
            "9972  120952.884714    386400.0  \n",
            "9998   81786.119894   1680000.0  \n",
            "\n",
            "[1000 rows x 7 columns]\n"
          ]
        }
      ]
    },
    {
      "cell_type": "code",
      "source": [
        "# Create a mapping of Product_Price to Product_ID\n",
        "price_to_product_map = transactions_data.dropna(subset=['Product_ID']).groupby('Product_Price')['Product_ID'].first()\n",
        "\n",
        "# Fill missing Product_ID based on Product_Price\n",
        "transactions_data['Product_ID'] = transactions_data.apply(\n",
        "    lambda row: price_to_product_map[row['Product_Price']] if pd.isnull(row['Product_ID']) and row['Product_Price'] in price_to_product_map else row['Product_ID'],\n",
        "    axis=1\n",
        ")\n",
        "\n",
        "# Recheck\n",
        "print(\"Remaining missing Product_ID values:\", transactions_data['Product_ID'].isnull().sum())"
      ],
      "metadata": {
        "colab": {
          "base_uri": "https://localhost:8080/"
        },
        "id": "MCL3v3nDPdSJ",
        "outputId": "74e66481-7ac1-488a-ac5f-e9796892fe54"
      },
      "execution_count": 417,
      "outputs": [
        {
          "output_type": "stream",
          "name": "stdout",
          "text": [
            "Remaining missing Product_ID values: 895\n"
          ]
        }
      ]
    },
    {
      "cell_type": "code",
      "source": [
        "# Infer using other columns\n",
        "date_to_product_map = transactions_data.dropna(subset=['Product_ID']).groupby(['Transaction_Date', 'Company_ID'])['Product_ID'].first()\n",
        "\n",
        "# Fill missing Product_ID based on Transaction_Date and Company_ID\n",
        "transactions_data['Product_ID'] = transactions_data.apply(\n",
        "    lambda row: date_to_product_map.get((row['Transaction_Date'], row['Company_ID']))\n",
        "    if pd.isnull(row['Product_ID']) else row['Product_ID'],\n",
        "    axis=1\n",
        ")"
      ],
      "metadata": {
        "id": "gCsAlxmnP-lg"
      },
      "execution_count": 418,
      "outputs": []
    },
    {
      "cell_type": "code",
      "source": [
        "# Recheck\n",
        "print(\"Remaining missing Product_ID values:\", transactions_data['Product_ID'].isnull().sum())"
      ],
      "metadata": {
        "colab": {
          "base_uri": "https://localhost:8080/"
        },
        "id": "4G3P33VtP-0c",
        "outputId": "2dd50567-e61b-4dfe-a67a-9d7212e4d00c"
      },
      "execution_count": 419,
      "outputs": [
        {
          "output_type": "stream",
          "name": "stdout",
          "text": [
            "Remaining missing Product_ID values: 761\n"
          ]
        }
      ]
    },
    {
      "cell_type": "code",
      "source": [
        "# Use Quantity and Total_Cost to infer Product_ID\n",
        "quantity_cost_to_product_map = transactions_data.dropna(subset=['Product_ID']).groupby(['Quantity', 'Total_Cost'])['Product_ID'].first()\n",
        "\n",
        "# Fill missing Product_ID based on Quantity and Total_Cost\n",
        "transactions_data['Product_ID'] = transactions_data.apply(\n",
        "    lambda row: quantity_cost_to_product_map.get((row['Quantity'], row['Total_Cost']))\n",
        "    if pd.isnull(row['Product_ID']) and not pd.isnull(row['Quantity']) and not pd.isnull(row['Total_Cost'])\n",
        "    else row['Product_ID'],\n",
        "    axis=1\n",
        ")\n",
        "\n",
        "# Recheck\n",
        "print(\"Remaining missing Product_ID values:\", transactions_data['Product_ID'].isnull().sum())"
      ],
      "metadata": {
        "colab": {
          "base_uri": "https://localhost:8080/"
        },
        "id": "PUmDpcq4QarR",
        "outputId": "5a7fd159-876c-454a-8d8b-10633c2b60ba"
      },
      "execution_count": 420,
      "outputs": [
        {
          "output_type": "stream",
          "name": "stdout",
          "text": [
            "Remaining missing Product_ID values: 96\n"
          ]
        }
      ]
    },
    {
      "cell_type": "code",
      "source": [
        "# Infer Product_ID Using Additional Features\n",
        "date_company_to_product_map = transactions_data.dropna(subset=['Product_ID']).groupby(['Transaction_Date', 'Company_ID'])['Product_ID'].first()\n",
        "\n",
        "# Fill missing Product_ID based on Transaction_Date and Company_ID\n",
        "transactions_data['Product_ID'] = transactions_data.apply(\n",
        "    lambda row: date_company_to_product_map.get((row['Transaction_Date'], row['Company_ID']))\n",
        "    if pd.isnull(row['Product_ID']) else row['Product_ID'],\n",
        "    axis=1\n",
        ")\n",
        "\n",
        "# Recheck missing values\n",
        "print(\"Remaining missing Product_ID values:\", transactions_data['Product_ID'].isnull().sum())"
      ],
      "metadata": {
        "colab": {
          "base_uri": "https://localhost:8080/"
        },
        "id": "eYA-9JO6Q2Ie",
        "outputId": "1ca724d9-d611-4203-c731-b33ae543bb1e"
      },
      "execution_count": 422,
      "outputs": [
        {
          "output_type": "stream",
          "name": "stdout",
          "text": [
            "Remaining missing Product_ID values: 94\n"
          ]
        }
      ]
    },
    {
      "cell_type": "code",
      "source": [
        "# Verify\n",
        "print(transactions_data.isnull().sum())"
      ],
      "metadata": {
        "colab": {
          "base_uri": "https://localhost:8080/"
        },
        "id": "GcQSXyfDRYqZ",
        "outputId": "cf13eac8-e20d-48d4-8f06-069faa97014f"
      },
      "execution_count": 423,
      "outputs": [
        {
          "output_type": "stream",
          "name": "stdout",
          "text": [
            "Transaction_ID       0\n",
            "Company_ID           0\n",
            "Product_ID          94\n",
            "Quantity             0\n",
            "Transaction_Date     0\n",
            "Product_Price        0\n",
            "Total_Cost           0\n",
            "dtype: int64\n"
          ]
        }
      ]
    },
    {
      "cell_type": "code",
      "source": [
        "# Fallback Strategy: Assign Placeholder IDs\n",
        "max_product_id = transactions_data['Product_ID'].max()\n",
        "transactions_data.loc[transactions_data['Product_ID'].isnull(), 'Product_ID'] = range(\n",
        "    int(max_product_id) + 1,\n",
        "    int(max_product_id) + 1 + transactions_data['Product_ID'].isnull().sum()\n",
        ")\n",
        "transactions_data['Product_ID'] = transactions_data['Product_ID'].astype(int)"
      ],
      "metadata": {
        "id": "kLjSByqmYuhn"
      },
      "execution_count": 424,
      "outputs": []
    },
    {
      "cell_type": "code",
      "source": [
        "# Verify\n",
        "print(transactions_data.isnull().sum())"
      ],
      "metadata": {
        "colab": {
          "base_uri": "https://localhost:8080/"
        },
        "id": "QMDBjr9EY5da",
        "outputId": "78615025-c342-464d-c084-d475994942eb"
      },
      "execution_count": 425,
      "outputs": [
        {
          "output_type": "stream",
          "name": "stdout",
          "text": [
            "Transaction_ID      0\n",
            "Company_ID          0\n",
            "Product_ID          0\n",
            "Quantity            0\n",
            "Transaction_Date    0\n",
            "Product_Price       0\n",
            "Total_Cost          0\n",
            "dtype: int64\n"
          ]
        }
      ]
    },
    {
      "cell_type": "code",
      "source": [
        "# Save the Cleaned Dataset\n",
        "transactions_data.to_csv('/content/drive/MyDrive/cleaned_transactions_data.csv', index=False)"
      ],
      "metadata": {
        "id": "VBcIO7FcRY8r"
      },
      "execution_count": 426,
      "outputs": []
    },
    {
      "cell_type": "code",
      "source": [
        "# Preprocessing Products Data\n",
        "# Basic information about the dataset\n",
        "print(products_data.info())\n",
        "print(products_data.head())"
      ],
      "metadata": {
        "colab": {
          "base_uri": "https://localhost:8080/"
        },
        "id": "fGm5fwwnTIPJ",
        "outputId": "2867427a-27d0-4562-8086-9f514bd0ec43"
      },
      "execution_count": 427,
      "outputs": [
        {
          "output_type": "stream",
          "name": "stdout",
          "text": [
            "<class 'pandas.core.frame.DataFrame'>\n",
            "RangeIndex: 20 entries, 0 to 19\n",
            "Data columns (total 3 columns):\n",
            " #   Column         Non-Null Count  Dtype  \n",
            "---  ------         --------------  -----  \n",
            " 0   Product_ID     18 non-null     float64\n",
            " 1   Product_Name   20 non-null     object \n",
            " 2   Product_Price  20 non-null     object \n",
            "dtypes: float64(1), object(2)\n",
            "memory usage: 612.0+ bytes\n",
            "None\n",
            "   Product_ID            Product_Name Product_Price\n",
            "0         1.0      FinPredictor Suite      ?140,000\n",
            "1         2.0  MarketMinder Analytics      ?168,000\n",
            "2         3.0    TrendWise Forecaster      ?100,800\n",
            "3         4.0  CustomerScope Insights      ?123,200\n",
            "4         5.0     SalesSync Optimizer       ?84,000\n"
          ]
        }
      ]
    },
    {
      "cell_type": "code",
      "source": [
        "# Handle Missing Product_ID\n",
        "max_product_id = products_data['Product_ID'].max()\n",
        "products_data.loc[products_data['Product_ID'].isnull(), 'Product_ID'] = range(\n",
        "    int(max_product_id) + 1,\n",
        "    int(max_product_id) + 1 + products_data['Product_ID'].isnull().sum()\n",
        ")\n",
        "products_data['Product_ID'] = products_data['Product_ID'].astype(int)\n",
        "\n",
        "# Recheck\n",
        "print(products_data['Product_ID'].isnull().sum())"
      ],
      "metadata": {
        "colab": {
          "base_uri": "https://localhost:8080/"
        },
        "id": "lYdvf3SBUZwS",
        "outputId": "be67a266-f9c4-4c6f-fccb-4c58b004bced"
      },
      "execution_count": 429,
      "outputs": [
        {
          "output_type": "stream",
          "name": "stdout",
          "text": [
            "0\n"
          ]
        }
      ]
    },
    {
      "cell_type": "code",
      "source": [
        "# Clean Product_Price Column\n",
        "# Remove non-numeric characters and convert to float\n",
        "products_data['Product_Price'] = products_data['Product_Price'].replace('[^\\d.]', '', regex=True).astype(float)"
      ],
      "metadata": {
        "id": "1Rs6HMDGUag2"
      },
      "execution_count": 430,
      "outputs": []
    },
    {
      "cell_type": "code",
      "source": [
        "# Verify and Handle Missing or Incorrect Prices\n",
        "# Check for missing prices\n",
        "print(\"Missing Product Prices:\", products_data['Product_Price'].isnull().sum())"
      ],
      "metadata": {
        "colab": {
          "base_uri": "https://localhost:8080/"
        },
        "id": "9185knS0abeT",
        "outputId": "8180ae07-d7ce-4971-e547-edf270bc6006"
      },
      "execution_count": 431,
      "outputs": [
        {
          "output_type": "stream",
          "name": "stdout",
          "text": [
            "Missing Product Prices: 0\n"
          ]
        }
      ]
    },
    {
      "cell_type": "code",
      "source": [
        "# Check for duplicates\n",
        "duplicates = products_data[products_data.duplicated(subset=['Product_ID', 'Product_Name', 'Product_Price'], keep=False)]\n",
        "print(\"Duplicate rows:\\n\", duplicates)"
      ],
      "metadata": {
        "colab": {
          "base_uri": "https://localhost:8080/"
        },
        "id": "5EoOhFM2a3iY",
        "outputId": "ab875dfd-5cff-4265-9ad2-3cdb662705e2"
      },
      "execution_count": 432,
      "outputs": [
        {
          "output_type": "stream",
          "name": "stdout",
          "text": [
            "Duplicate rows:\n",
            " Empty DataFrame\n",
            "Columns: [Product_ID, Product_Name, Product_Price]\n",
            "Index: []\n"
          ]
        }
      ]
    },
    {
      "cell_type": "code",
      "source": [
        "# Data validation\n",
        "unmatched_products = transactions_data[~transactions_data['Product_ID'].isin(products_data['Product_ID'])]\n",
        "print(\"Unmatched Product IDs:\\n\", unmatched_products)"
      ],
      "metadata": {
        "colab": {
          "base_uri": "https://localhost:8080/"
        },
        "id": "cByx7hYSbAHC",
        "outputId": "807174a7-507e-425c-a3ab-a1bb2c7c3908"
      },
      "execution_count": 433,
      "outputs": [
        {
          "output_type": "stream",
          "name": "stdout",
          "text": [
            "Unmatched Product IDs:\n",
            "       Transaction_ID  Company_ID  Product_ID  Quantity Transaction_Date  \\\n",
            "10                11         6.0          16       6.0       2024-12-01   \n",
            "30                31        16.0          16      20.0       2023-12-30   \n",
            "33                34        92.0           8      11.0       2024-02-27   \n",
            "36                37        92.0           8      17.0       2023-03-16   \n",
            "69                70        71.0          16      18.0       2023-04-21   \n",
            "...              ...         ...         ...       ...              ...   \n",
            "9936            9937        14.0           8      17.0       2021-03-27   \n",
            "9946            9947         9.0           8      11.0       2022-10-23   \n",
            "9978            9979        37.0           8      14.0       2022-05-14   \n",
            "9985            9986        14.0           8      13.0       2023-10-24   \n",
            "9999           10999        77.0          16      14.0       2023-10-29   \n",
            "\n",
            "      Product_Price    Total_Cost  \n",
            "10     98263.850401  5.320000e+05  \n",
            "30    109347.017504  2.021600e+06  \n",
            "33    141578.710506  1.814400e+06  \n",
            "36    139881.217277  2.377981e+06  \n",
            "69    105544.339526  2.021600e+06  \n",
            "...             ...           ...  \n",
            "9936  159165.615410  2.419200e+06  \n",
            "9946  146171.452081  7.560000e+05  \n",
            "9978  131297.783516  2.116800e+06  \n",
            "9985  144652.466102  2.116800e+06  \n",
            "9999  115708.404715  1.489600e+06  \n",
            "\n",
            "[1086 rows x 7 columns]\n"
          ]
        }
      ]
    },
    {
      "cell_type": "code",
      "source": [
        "# Identify Unique Unmatched Product_IDs:\n",
        "unmatched_ids = unmatched_products['Product_ID'].unique()\n",
        "print(\"Unmatched Product IDs:\", unmatched_ids)"
      ],
      "metadata": {
        "colab": {
          "base_uri": "https://localhost:8080/"
        },
        "id": "QzcGj1Zib7KU",
        "outputId": "14bf80bb-add1-483a-f719-e71da04f4793"
      },
      "execution_count": 438,
      "outputs": [
        {
          "output_type": "stream",
          "name": "stdout",
          "text": [
            "Unmatched Product IDs: [ 16   8  23  24  25  26  27  28  29  30  31  32  33  34  35  36  37  38\n",
            "  39  40  41  42  43  44  45  46  47  48  49  50  51  52  53  54  55  56\n",
            "  57  58  59  60  61  62  63  64  65  66  67  68  69  70  71  72  73  74\n",
            "  75  76  77  78  79  80  81  82  83  84  85  86  87  88  89  90  91  92\n",
            "  93  94  95  96  97  98  99 100 101 102 103 104 105 106 107 108 109 110\n",
            " 111 112 113 114]\n"
          ]
        }
      ]
    },
    {
      "cell_type": "code",
      "source": [
        "# Investigate\n",
        "# Create placeholder data for unmatched Product_IDs\n",
        "unmatched_ids = unmatched_products['Product_ID'].unique()\n",
        "\n",
        "# Create a list to hold the placeholder rows\n",
        "placeholder_rows = []\n",
        "\n",
        "for prod_id in unmatched_ids:\n",
        "    placeholder_rows.append({\n",
        "        'Product_ID': prod_id,\n",
        "        'Product_Name': f'Unknown_{prod_id}',\n",
        "        'Product_Price': None  # Or assign a default price if necessary\n",
        "    })\n",
        "\n",
        "# Convert placeholder rows into a DataFrame\n",
        "placeholder_df = pd.DataFrame(placeholder_rows)\n",
        "\n",
        "# Concatenate the placeholder rows to the original products data\n",
        "products_data = pd.concat([products_data, placeholder_df], ignore_index=True)\n",
        "\n",
        "# Re-check the unmatched products\n",
        "unmatched_products = transactions_data[~transactions_data['Product_ID'].isin(products_data['Product_ID'])]\n",
        "print(\"Remaining unmatched Product IDs:\", unmatched_products)"
      ],
      "metadata": {
        "colab": {
          "base_uri": "https://localhost:8080/"
        },
        "id": "1zbCYJsbfJEU",
        "outputId": "45b5845a-7794-4bd5-cdf7-52573aa6d2f6"
      },
      "execution_count": 439,
      "outputs": [
        {
          "output_type": "stream",
          "name": "stdout",
          "text": [
            "Remaining unmatched Product IDs: Empty DataFrame\n",
            "Columns: [Transaction_ID, Company_ID, Product_ID, Quantity, Transaction_Date, Product_Price, Total_Cost]\n",
            "Index: []\n"
          ]
        },
        {
          "output_type": "stream",
          "name": "stderr",
          "text": [
            "<ipython-input-439-6a801b932c8a>:19: FutureWarning: The behavior of DataFrame concatenation with empty or all-NA entries is deprecated. In a future version, this will no longer exclude empty or all-NA columns when determining the result dtypes. To retain the old behavior, exclude the relevant entries before the concat operation.\n",
            "  products_data = pd.concat([products_data, placeholder_df], ignore_index=True)\n"
          ]
        }
      ]
    },
    {
      "cell_type": "code",
      "source": [
        "# Double check unmatched\n",
        "print(\"Unmatched Products DataFrame:\")\n",
        "print(unmatched_products)"
      ],
      "metadata": {
        "colab": {
          "base_uri": "https://localhost:8080/"
        },
        "id": "bR_BnE9sfbxf",
        "outputId": "aa24aa55-fcff-46ff-82b9-66ae13feb555"
      },
      "execution_count": 440,
      "outputs": [
        {
          "output_type": "stream",
          "name": "stdout",
          "text": [
            "Unmatched Products DataFrame:\n",
            "Empty DataFrame\n",
            "Columns: [Transaction_ID, Company_ID, Product_ID, Quantity, Transaction_Date, Product_Price, Total_Cost]\n",
            "Index: []\n"
          ]
        }
      ]
    },
    {
      "cell_type": "code",
      "source": [
        "# Merge Products Data and Transaction Data on Product ID\n",
        "merged_data = pd.merge(transactions_data, products_data, on='Product_ID', how='left')\n",
        "print(merged_data.head())"
      ],
      "metadata": {
        "colab": {
          "base_uri": "https://localhost:8080/"
        },
        "id": "_-RSaqgQgbAJ",
        "outputId": "75426562-ddc5-465e-b597-28859568c01c"
      },
      "execution_count": 441,
      "outputs": [
        {
          "output_type": "stream",
          "name": "stdout",
          "text": [
            "   Transaction_ID  Company_ID  Product_ID  Quantity Transaction_Date  \\\n",
            "0               1        88.0           6      11.0       2024-03-26   \n",
            "1               2        29.0          19      16.0       2024-07-09   \n",
            "2           10000        28.0          18       6.0       2024-04-13   \n",
            "3               4        85.0          12      12.0       2023-06-09   \n",
            "4               5        47.0           3       8.0       2021-06-07   \n",
            "\n",
            "   Product_Price_x  Total_Cost            Product_Name  Product_Price_y  \n",
            "0    194379.147964   1075200.0    RevenueVue Dashboard         179200.0  \n",
            "1     97930.993380   1428000.0        EcoNomix Modeler          95200.0  \n",
            "2    126095.547778    940800.0  DashSync Analytics Hub         134400.0  \n",
            "3    131297.783516   1008000.0        BudgetMaster Pro          84000.0  \n",
            "4     99575.609634    705600.0    TrendWise Forecaster         100800.0  \n"
          ]
        }
      ]
    },
    {
      "cell_type": "code",
      "source": [
        "# Merge datasets on 'Product_ID'\n",
        "merged_data = pd.merge(transactions_data, products_data, on='Product_ID', how='left')\n",
        "\n",
        "# Drop the unwanted 'Product_Price_x' column from transactions_data\n",
        "merged_data = merged_data.drop(columns=['Product_Price_x'])\n",
        "\n",
        "# Rename 'Product_Price_y' to 'Product_Price'\n",
        "merged_data = merged_data.rename(columns={'Product_Price_y': 'Product_Price'})\n",
        "\n",
        "# Display the cleaned merged data\n",
        "print(merged_data.head())"
      ],
      "metadata": {
        "colab": {
          "base_uri": "https://localhost:8080/"
        },
        "id": "YC9rd6Mgibu7",
        "outputId": "4929f395-f37c-49f8-f7fe-7113eabfcdf9"
      },
      "execution_count": 442,
      "outputs": [
        {
          "output_type": "stream",
          "name": "stdout",
          "text": [
            "   Transaction_ID  Company_ID  Product_ID  Quantity Transaction_Date  \\\n",
            "0               1        88.0           6      11.0       2024-03-26   \n",
            "1               2        29.0          19      16.0       2024-07-09   \n",
            "2           10000        28.0          18       6.0       2024-04-13   \n",
            "3               4        85.0          12      12.0       2023-06-09   \n",
            "4               5        47.0           3       8.0       2021-06-07   \n",
            "\n",
            "   Total_Cost            Product_Name  Product_Price  \n",
            "0   1075200.0    RevenueVue Dashboard       179200.0  \n",
            "1   1428000.0        EcoNomix Modeler        95200.0  \n",
            "2    940800.0  DashSync Analytics Hub       134400.0  \n",
            "3   1008000.0        BudgetMaster Pro        84000.0  \n",
            "4    705600.0    TrendWise Forecaster       100800.0  \n"
          ]
        }
      ]
    },
    {
      "cell_type": "code",
      "source": [
        "# Cleanup Mismatched Product ID\n",
        "# Check for unmatched product ids in merged_data\n",
        "unmatched_products = merged_data[merged_data['Product_Price'].isnull()]\n",
        "print(\"Unmatched Products DataFrame:\")\n",
        "print(unmatched_products)"
      ],
      "metadata": {
        "colab": {
          "base_uri": "https://localhost:8080/"
        },
        "id": "YFmBch2pjFIM",
        "outputId": "83b9b931-992b-438c-877e-73075fb6475e"
      },
      "execution_count": 443,
      "outputs": [
        {
          "output_type": "stream",
          "name": "stdout",
          "text": [
            "Unmatched Products DataFrame:\n",
            "      Transaction_ID  Company_ID  Product_ID  Quantity Transaction_Date  \\\n",
            "10                11         6.0          16       6.0       2024-12-01   \n",
            "30                31        16.0          16      20.0       2023-12-30   \n",
            "33                34        92.0           8      11.0       2024-02-27   \n",
            "36                37        92.0           8      17.0       2023-03-16   \n",
            "69                70        71.0          16      18.0       2023-04-21   \n",
            "...              ...         ...         ...       ...              ...   \n",
            "9936            9937        14.0           8      17.0       2021-03-27   \n",
            "9946            9947         9.0           8      11.0       2022-10-23   \n",
            "9978            9979        37.0           8      14.0       2022-05-14   \n",
            "9985            9986        14.0           8      13.0       2023-10-24   \n",
            "9999           10999        77.0          16      14.0       2023-10-29   \n",
            "\n",
            "        Total_Cost Product_Name  Product_Price  \n",
            "10    5.320000e+05   Unknown_16            NaN  \n",
            "30    2.021600e+06   Unknown_16            NaN  \n",
            "33    1.814400e+06    Unknown_8            NaN  \n",
            "36    2.377981e+06    Unknown_8            NaN  \n",
            "69    2.021600e+06   Unknown_16            NaN  \n",
            "...            ...          ...            ...  \n",
            "9936  2.419200e+06    Unknown_8            NaN  \n",
            "9946  7.560000e+05    Unknown_8            NaN  \n",
            "9978  2.116800e+06    Unknown_8            NaN  \n",
            "9985  2.116800e+06    Unknown_8            NaN  \n",
            "9999  1.489600e+06   Unknown_16            NaN  \n",
            "\n",
            "[1086 rows x 8 columns]\n"
          ]
        }
      ]
    }
  ]
}