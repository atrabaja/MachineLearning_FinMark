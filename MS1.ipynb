{
  "nbformat": 4,
  "nbformat_minor": 0,
  "metadata": {
    "colab": {
      "provenance": [],
      "authorship_tag": "ABX9TyPtWJtAf4VYvk7FRtJm85y0",
      "include_colab_link": true
    },
    "kernelspec": {
      "name": "python3",
      "display_name": "Python 3"
    },
    "language_info": {
      "name": "python"
    }
  },
  "cells": [
    {
      "cell_type": "markdown",
      "metadata": {
        "id": "view-in-github",
        "colab_type": "text"
      },
      "source": [
        "<a href=\"https://colab.research.google.com/github/atrabaja/MachineLearning_FinMark/blob/main/MS1.ipynb\" target=\"_parent\"><img src=\"https://colab.research.google.com/assets/colab-badge.svg\" alt=\"Open In Colab\"/></a>"
      ]
    },
    {
      "cell_type": "code",
      "source": [
        "from google.colab import drive\n",
        "drive.mount('/content/drive')"
      ],
      "metadata": {
        "colab": {
          "base_uri": "https://localhost:8080/"
        },
        "id": "G1AtT4ET4utK",
        "outputId": "031c16f3-7526-4239-b399-ba1406ca1c4f"
      },
      "execution_count": 241,
      "outputs": [
        {
          "output_type": "stream",
          "name": "stdout",
          "text": [
            "Drive already mounted at /content/drive; to attempt to forcibly remount, call drive.mount(\"/content/drive\", force_remount=True).\n"
          ]
        }
      ]
    },
    {
      "cell_type": "code",
      "source": [
        "import os\n",
        "data_path = '/content/drive/MyDrive'"
      ],
      "metadata": {
        "id": "xk22DoupZjOr"
      },
      "execution_count": 242,
      "outputs": []
    },
    {
      "cell_type": "code",
      "source": [
        "# Import libraries\n",
        "import pandas as pd\n",
        "import numpy as np\n",
        "from sklearn.model_selection import train_test_split\n",
        "from sklearn.ensemble import RandomForestClassifier\n",
        "from sklearn.metrics import classification_report, accuracy_score"
      ],
      "metadata": {
        "id": "zX6JhoEAvcDx"
      },
      "execution_count": 243,
      "outputs": []
    },
    {
      "cell_type": "code",
      "source": [
        "# Define file paths\n",
        "customers_file_path = '/content/drive/My Drive/customers_data.csv'\n",
        "products_file_path = '/content/drive/My Drive/products_data.csv'\n",
        "transactions_file_path = '/content/drive/My Drive/transactions_data.csv'"
      ],
      "metadata": {
        "id": "Td2CG2sY0ydG"
      },
      "execution_count": 244,
      "outputs": []
    },
    {
      "cell_type": "code",
      "source": [
        "# Load datasets\n",
        "customers_data = pd.read_csv(customers_file_path)\n",
        "products_data = pd.read_csv(products_file_path)\n",
        "transactions_data = pd.read_csv(transactions_file_path)\n",
        "\n",
        "# Display the first few rows of each dataset\n",
        "print(customers_data.head())\n",
        "print(products_data.head())\n",
        "print(transactions_data.head())"
      ],
      "metadata": {
        "colab": {
          "base_uri": "https://localhost:8080/"
        },
        "id": "sTXgJ6-L_c2z",
        "outputId": "c39043e0-065d-4765-ba06-3fb123b42f4b"
      },
      "execution_count": 245,
      "outputs": [
        {
          "output_type": "stream",
          "name": "stdout",
          "text": [
            "   Company_ID          Company_Name  Company_Profit  \\\n",
            "0         1.0  Tech  Enterprises  1         80701.0   \n",
            "1         2.0   Global  Partners  2         80511.0   \n",
            "2         3.0  Quantum Associates 3        110664.0   \n",
            "3         4.0       Prime Network 4             NaN   \n",
            "4         5.0    Elite  Ventures  5         69427.0   \n",
            "\n",
            "                                             Address  \n",
            "0             EDSA, Barangay 606, Pasig, Philippines  \n",
            "1  Commonwealth Ave, Barangay 789, Taguig, Philip...  \n",
            "2       Roxas Blvd, Barangay 505, Pasig, Philippines  \n",
            "3  Alabang-Zapote Rd, Barangay 202, Taguig, Phili...  \n",
            "4    Ayala Avenue, Barangay 101, Makati, Philippines  \n",
            "   Product_ID            Product_Name Product_Price\n",
            "0         1.0      FinPredictor Suite      ?140,000\n",
            "1         2.0  MarketMinder Analytics      ?168,000\n",
            "2         3.0    TrendWise Forecaster      ?100,800\n",
            "3         4.0  CustomerScope Insights      ?123,200\n",
            "4         5.0     SalesSync Optimizer       ?84,000\n",
            "   Unnamed: 0  Transaction_ID  Company_ID  Product_ID  Quantity  \\\n",
            "0         0.0             1.0        88.0         6.0       NaN   \n",
            "1         1.0             2.0        29.0        19.0      16.0   \n",
            "2         2.0             NaN        28.0        18.0       6.0   \n",
            "3         3.0             4.0        85.0        12.0      12.0   \n",
            "4         4.0             5.0        47.0         3.0       8.0   \n",
            "\n",
            "  Transaction_Date  Product_Price  Total_Cost  \n",
            "0       2024/03/26  194379.147964   1075200.0  \n",
            "1    July 09, 2024   97930.993380   1428000.0  \n",
            "2       04/13/2024  126095.547778    940800.0  \n",
            "3       09-06-2023            NaN   1008000.0  \n",
            "4       07/06/2021   99575.609634    705600.0  \n"
          ]
        }
      ]
    },
    {
      "cell_type": "code",
      "source": [
        "# Preprocessing Customers Data\n",
        "# Identify rows with missing Company_ID\n",
        "missing_ids = customers_data[customers_data['Company_ID'].isnull()]\n",
        "\n",
        "# Map existing Company_IDs to rows with missing IDs based on matching columns\n",
        "customers_data['Company_ID'] = customers_data['Company_ID'].fillna(\n",
        "    customers_data.merge(\n",
        "        customers_data[['Company_ID', 'Company_Name', 'Address', 'Company_Profit']].dropna(subset=['Company_ID']),\n",
        "        on=['Company_Name', 'Address', 'Company_Profit'],\n",
        "        how='left'\n",
        "    )['Company_ID_y']\n",
        ")"
      ],
      "metadata": {
        "id": "GO52nJqo7nHG"
      },
      "execution_count": 246,
      "outputs": []
    },
    {
      "cell_type": "code",
      "source": [
        "# Find the maximum existing Company_ID\n",
        "max_id = customers_data['Company_ID'].max()\n",
        "\n",
        "# Assign unique IDs to remaining missing rows\n",
        "customers_data.loc[customers_data['Company_ID'].isnull(), 'Company_ID'] = range(\n",
        "    int(max_id) + 1, int(max_id) + 1 + customers_data['Company_ID'].isnull().sum()\n",
        ")\n",
        "\n",
        "# Convert Company_ID to integer type\n",
        "customers_data['Company_ID'] = customers_data['Company_ID'].astype(int)"
      ],
      "metadata": {
        "id": "q9Ik_Esw7pou"
      },
      "execution_count": 247,
      "outputs": []
    },
    {
      "cell_type": "code",
      "source": [
        "# Check for duplicates based on Company_Name, Address, and Company_Profit\n",
        "duplicates = customers_data[customers_data.duplicated(subset=['Company_Name', 'Address', 'Company_Profit'], keep=False)]\n",
        "print(duplicates)\n",
        "\n",
        "# Drop duplicates if necessary\n",
        "customers_data = customers_data.drop_duplicates(subset=['Company_Name', 'Address', 'Company_Profit'], keep='first')"
      ],
      "metadata": {
        "colab": {
          "base_uri": "https://localhost:8080/"
        },
        "id": "eC7Jjy3f7wy-",
        "outputId": "f1071745-f5de-498e-af2f-016eb9cf276c"
      },
      "execution_count": 248,
      "outputs": [
        {
          "output_type": "stream",
          "name": "stdout",
          "text": [
            "Empty DataFrame\n",
            "Columns: [Company_ID, Company_Name, Company_Profit, Address]\n",
            "Index: []\n"
          ]
        }
      ]
    },
    {
      "cell_type": "code",
      "source": [
        "# Verify there are no missing values or duplicates\n",
        "print(customers_data.isnull().sum())\n",
        "print(customers_data.duplicated().sum())\n",
        "\n",
        "# Display dataset summary\n",
        "print(customers_data.info())\n",
        "print(customers_data.head())"
      ],
      "metadata": {
        "colab": {
          "base_uri": "https://localhost:8080/"
        },
        "id": "A1yeM7Ma74-L",
        "outputId": "733e62f1-1899-49f2-b15a-fc1dcbbd15ee"
      },
      "execution_count": 249,
      "outputs": [
        {
          "output_type": "stream",
          "name": "stdout",
          "text": [
            "Company_ID         0\n",
            "Company_Name       0\n",
            "Company_Profit    12\n",
            "Address            0\n",
            "dtype: int64\n",
            "0\n",
            "<class 'pandas.core.frame.DataFrame'>\n",
            "RangeIndex: 100 entries, 0 to 99\n",
            "Data columns (total 4 columns):\n",
            " #   Column          Non-Null Count  Dtype  \n",
            "---  ------          --------------  -----  \n",
            " 0   Company_ID      100 non-null    int64  \n",
            " 1   Company_Name    100 non-null    object \n",
            " 2   Company_Profit  88 non-null     float64\n",
            " 3   Address         100 non-null    object \n",
            "dtypes: float64(1), int64(1), object(2)\n",
            "memory usage: 3.3+ KB\n",
            "None\n",
            "   Company_ID          Company_Name  Company_Profit  \\\n",
            "0           1  Tech  Enterprises  1         80701.0   \n",
            "1           2   Global  Partners  2         80511.0   \n",
            "2           3  Quantum Associates 3        110664.0   \n",
            "3           4       Prime Network 4             NaN   \n",
            "4           5    Elite  Ventures  5         69427.0   \n",
            "\n",
            "                                             Address  \n",
            "0             EDSA, Barangay 606, Pasig, Philippines  \n",
            "1  Commonwealth Ave, Barangay 789, Taguig, Philip...  \n",
            "2       Roxas Blvd, Barangay 505, Pasig, Philippines  \n",
            "3  Alabang-Zapote Rd, Barangay 202, Taguig, Phili...  \n",
            "4    Ayala Avenue, Barangay 101, Makati, Philippines  \n"
          ]
        }
      ]
    },
    {
      "cell_type": "code",
      "source": [
        "# Remove numbers from the Company_Name column\n",
        "customers_data['Company_Name'] = customers_data['Company_Name'].str.replace(r'\\d+', '', regex=True).str.strip()\n",
        "\n",
        "# Verify the changes\n",
        "print(customers_data['Company_Name'].head())"
      ],
      "metadata": {
        "colab": {
          "base_uri": "https://localhost:8080/"
        },
        "id": "67c8Blkc8Xqm",
        "outputId": "6ca7c008-b4d3-4415-b2e9-ebc79fd8bdbb"
      },
      "execution_count": 250,
      "outputs": [
        {
          "output_type": "stream",
          "name": "stdout",
          "text": [
            "0     Tech  Enterprises\n",
            "1      Global  Partners\n",
            "2    Quantum Associates\n",
            "3         Prime Network\n",
            "4       Elite  Ventures\n",
            "Name: Company_Name, dtype: object\n"
          ]
        }
      ]
    },
    {
      "cell_type": "code",
      "source": [
        "# Fill missing Company_Profit based on Address group median\n",
        "customers_data['Company_Profit'] = customers_data.groupby('Address')['Company_Profit'].transform(\n",
        "    lambda x: x.fillna(x.median())\n",
        ")"
      ],
      "metadata": {
        "id": "rNRqxzuz8X6e"
      },
      "execution_count": 251,
      "outputs": []
    },
    {
      "cell_type": "code",
      "source": [
        "# Verify no missing values remain\n",
        "print(customers_data.isnull().sum())\n",
        "\n",
        "# Display updated dataset\n",
        "print(customers_data.head())"
      ],
      "metadata": {
        "colab": {
          "base_uri": "https://localhost:8080/"
        },
        "id": "qfncHAPi-RAg",
        "outputId": "b66d6a64-0ed4-49be-f89d-d7d622801f24"
      },
      "execution_count": 252,
      "outputs": [
        {
          "output_type": "stream",
          "name": "stdout",
          "text": [
            "Company_ID         0\n",
            "Company_Name       0\n",
            "Company_Profit    12\n",
            "Address            0\n",
            "dtype: int64\n",
            "   Company_ID        Company_Name  Company_Profit  \\\n",
            "0           1   Tech  Enterprises         80701.0   \n",
            "1           2    Global  Partners         80511.0   \n",
            "2           3  Quantum Associates        110664.0   \n",
            "3           4       Prime Network             NaN   \n",
            "4           5     Elite  Ventures         69427.0   \n",
            "\n",
            "                                             Address  \n",
            "0             EDSA, Barangay 606, Pasig, Philippines  \n",
            "1  Commonwealth Ave, Barangay 789, Taguig, Philip...  \n",
            "2       Roxas Blvd, Barangay 505, Pasig, Philippines  \n",
            "3  Alabang-Zapote Rd, Barangay 202, Taguig, Phili...  \n",
            "4    Ayala Avenue, Barangay 101, Makati, Philippines  \n"
          ]
        }
      ]
    },
    {
      "cell_type": "code",
      "source": [
        "# Cleaned customer data\n",
        "customers_data.to_csv('/content/drive/MyDrive/cleaned_customers_data.csv', index=False)"
      ],
      "metadata": {
        "id": "ah0KEdDD_QHe"
      },
      "execution_count": 253,
      "outputs": []
    },
    {
      "cell_type": "code",
      "source": [
        "# Preprocessing Transactions Data\n",
        "# Check basic info\n",
        "print(transactions_data.info())\n",
        "print(transactions_data.head())\n",
        "\n",
        "# Check for missing values\n",
        "print(transactions_data.isnull().sum())"
      ],
      "metadata": {
        "colab": {
          "base_uri": "https://localhost:8080/"
        },
        "id": "7sKuq6Z2_acS",
        "outputId": "e8e2cc22-5586-4b01-8928-88fbc4bee374"
      },
      "execution_count": 254,
      "outputs": [
        {
          "output_type": "stream",
          "name": "stdout",
          "text": [
            "<class 'pandas.core.frame.DataFrame'>\n",
            "RangeIndex: 10000 entries, 0 to 9999\n",
            "Data columns (total 8 columns):\n",
            " #   Column            Non-Null Count  Dtype  \n",
            "---  ------            --------------  -----  \n",
            " 0   Unnamed: 0        9000 non-null   float64\n",
            " 1   Transaction_ID    9000 non-null   float64\n",
            " 2   Company_ID        9000 non-null   float64\n",
            " 3   Product_ID        9000 non-null   float64\n",
            " 4   Quantity          9000 non-null   float64\n",
            " 5   Transaction_Date  10000 non-null  object \n",
            " 6   Product_Price     9000 non-null   float64\n",
            " 7   Total_Cost        9000 non-null   float64\n",
            "dtypes: float64(7), object(1)\n",
            "memory usage: 625.1+ KB\n",
            "None\n",
            "   Unnamed: 0  Transaction_ID  Company_ID  Product_ID  Quantity  \\\n",
            "0         0.0             1.0        88.0         6.0       NaN   \n",
            "1         1.0             2.0        29.0        19.0      16.0   \n",
            "2         2.0             NaN        28.0        18.0       6.0   \n",
            "3         3.0             4.0        85.0        12.0      12.0   \n",
            "4         4.0             5.0        47.0         3.0       8.0   \n",
            "\n",
            "  Transaction_Date  Product_Price  Total_Cost  \n",
            "0       2024/03/26  194379.147964   1075200.0  \n",
            "1    July 09, 2024   97930.993380   1428000.0  \n",
            "2       04/13/2024  126095.547778    940800.0  \n",
            "3       09-06-2023            NaN   1008000.0  \n",
            "4       07/06/2021   99575.609634    705600.0  \n",
            "Unnamed: 0          1000\n",
            "Transaction_ID      1000\n",
            "Company_ID          1000\n",
            "Product_ID          1000\n",
            "Quantity            1000\n",
            "Transaction_Date       0\n",
            "Product_Price       1000\n",
            "Total_Cost          1000\n",
            "dtype: int64\n"
          ]
        }
      ]
    },
    {
      "cell_type": "code",
      "source": [
        "# Dropped unnamed column\n",
        "transactions_data = transactions_data.drop(columns=['Unnamed: 0'])"
      ],
      "metadata": {
        "id": "-RMhtwbqDtH_"
      },
      "execution_count": 255,
      "outputs": []
    },
    {
      "cell_type": "code",
      "source": [
        "# Handle missing values in Quantity and ensure it's a whole number\n",
        "transactions_data['Quantity'] = transactions_data['Quantity'].fillna(transactions_data['Quantity'].median())\n",
        "transactions_data['Quantity'] = transactions_data['Quantity'].astype(int)  # Convert to whole number"
      ],
      "metadata": {
        "id": "Wcvr515bwddG"
      },
      "execution_count": 256,
      "outputs": []
    },
    {
      "cell_type": "code",
      "source": [
        "# Handle missing values in Product_Price and ensure it's in two decimal places\n",
        "transactions_data['Product_Price'] = transactions_data['Product_Price'].fillna(transactions_data['Product_Price'].median())\n",
        "transactions_data['Product_Price'] = transactions_data['Product_Price'].round(2)  # Round to 2 decimal places"
      ],
      "metadata": {
        "id": "V2Vf4pUVwwY-"
      },
      "execution_count": 257,
      "outputs": []
    },
    {
      "cell_type": "code",
      "source": [
        "# Display unique formats in Transaction_Date\n",
        "print(\"Unique formats in Transaction_Date before conversion:\\n\", transactions_data['Transaction_Date'].unique())\n",
        "\n",
        "# Define a function to parse different date formats\n",
        "def parse_date(date_str):\n",
        "    # Attempt to parse several known formats\n",
        "    for fmt in ('%Y-%m-%d', '%d-%m-%Y', '%m-%d-%Y', '%Y/%m/%d', '%d/%m/%Y', '%m/%d/%Y', '%B %d, %Y', '%d %B %Y'):\n",
        "        try:\n",
        "            return pd.to_datetime(date_str, format=fmt)\n",
        "        except (ValueError, TypeError):\n",
        "            continue  # Try the next format if this one fails\n",
        "    return pd.NaT  # Return NaT if no formats worked\n",
        "\n",
        "# Apply the parsing function\n",
        "transactions_data['Transaction_Date'] = transactions_data['Transaction_Date'].apply(parse_date)\n",
        "\n",
        "# Check for NaT values after parsing\n",
        "nat_count = transactions_data['Transaction_Date'].isna().sum()\n",
        "print(\"NaT values in Transaction_Date column after conversion:\", nat_count)\n",
        "\n",
        "# Inspect problematic entries if there are any NaT values\n",
        "if nat_count > 0:\n",
        "    print(\"Remaining problematic date entries:\\n\", transactions_data[transactions_data['Transaction_Date'].isna()]['Transaction_Date'])\n",
        "\n",
        "# Confirm the data type of Transaction_Date after all conversions\n",
        "print(\"Data type of Transaction_Date after final conversion:\", transactions_data['Transaction_Date'].dtypes)"
      ],
      "metadata": {
        "colab": {
          "base_uri": "https://localhost:8080/"
        },
        "id": "HxINDX22CVBP",
        "outputId": "d125d70b-cec1-45c5-a996-519b19e4e394"
      },
      "execution_count": 259,
      "outputs": [
        {
          "output_type": "stream",
          "name": "stdout",
          "text": [
            "Unique formats in Transaction_Date before conversion:\n",
            " <DatetimeArray>\n",
            "['2024-03-26 00:00:00', '2024-07-09 00:00:00', '2024-04-13 00:00:00',\n",
            " '2023-06-09 00:00:00', '2021-06-07 00:00:00', '2021-07-12 00:00:00',\n",
            " '2023-11-01 00:00:00', '2023-10-31 00:00:00', '2024-02-25 00:00:00',\n",
            " '2021-03-29 00:00:00',\n",
            " ...\n",
            " '2022-11-30 00:00:00', '2024-03-16 00:00:00', '2020-06-11 00:00:00',\n",
            " '2020-01-12 00:00:00', '2022-07-13 00:00:00', '2024-11-08 00:00:00',\n",
            " '2024-12-04 00:00:00', '2023-11-04 00:00:00', '2020-03-12 00:00:00',\n",
            " '2024-12-09 00:00:00']\n",
            "Length: 1490, dtype: datetime64[ns]\n",
            "NaT values in Transaction_Date column after conversion: 0\n",
            "Data type of Transaction_Date after final conversion: datetime64[ns]\n"
          ]
        }
      ]
    },
    {
      "cell_type": "code",
      "source": [
        "# Final check of the dataset\n",
        "print(transactions_data.info())\n",
        "print(transactions_data.head())"
      ],
      "metadata": {
        "colab": {
          "base_uri": "https://localhost:8080/"
        },
        "id": "N1XyqKJ7CVR-",
        "outputId": "a572f671-ac8b-4fa1-f6ee-4be8256058e2"
      },
      "execution_count": 260,
      "outputs": [
        {
          "output_type": "stream",
          "name": "stdout",
          "text": [
            "<class 'pandas.core.frame.DataFrame'>\n",
            "RangeIndex: 10000 entries, 0 to 9999\n",
            "Data columns (total 7 columns):\n",
            " #   Column            Non-Null Count  Dtype         \n",
            "---  ------            --------------  -----         \n",
            " 0   Transaction_ID    9000 non-null   float64       \n",
            " 1   Company_ID        9000 non-null   float64       \n",
            " 2   Product_ID        9000 non-null   float64       \n",
            " 3   Quantity          10000 non-null  int64         \n",
            " 4   Transaction_Date  10000 non-null  datetime64[ns]\n",
            " 5   Product_Price     10000 non-null  float64       \n",
            " 6   Total_Cost        9000 non-null   float64       \n",
            "dtypes: datetime64[ns](1), float64(5), int64(1)\n",
            "memory usage: 547.0 KB\n",
            "None\n",
            "   Transaction_ID  Company_ID  Product_ID  Quantity Transaction_Date  \\\n",
            "0             1.0        88.0         6.0        11       2024-03-26   \n",
            "1             2.0        29.0        19.0        16       2024-07-09   \n",
            "2             NaN        28.0        18.0         6       2024-04-13   \n",
            "3             4.0        85.0        12.0        12       2023-06-09   \n",
            "4             5.0        47.0         3.0         8       2021-06-07   \n",
            "\n",
            "   Product_Price  Total_Cost  \n",
            "0      194379.15   1075200.0  \n",
            "1       97930.99   1428000.0  \n",
            "2      126095.55    940800.0  \n",
            "3      131297.78   1008000.0  \n",
            "4       99575.61    705600.0  \n"
          ]
        }
      ]
    },
    {
      "cell_type": "code",
      "source": [
        "# Verify Missing Values\n",
        "print(transactions_data.isnull().sum())"
      ],
      "metadata": {
        "colab": {
          "base_uri": "https://localhost:8080/"
        },
        "id": "c25Mlr4CDsbw",
        "outputId": "6951c875-a9a8-4594-e5a2-3ca4fb962814"
      },
      "execution_count": 261,
      "outputs": [
        {
          "output_type": "stream",
          "name": "stdout",
          "text": [
            "Transaction_ID      1000\n",
            "Company_ID          1000\n",
            "Product_ID          1000\n",
            "Quantity               0\n",
            "Transaction_Date       0\n",
            "Product_Price          0\n",
            "Total_Cost          1000\n",
            "dtype: int64\n"
          ]
        }
      ]
    },
    {
      "cell_type": "code",
      "source": [
        "# Identify rows with missing Transaction_ID\n",
        "missing_transaction_ids = transactions_data[transactions_data['Transaction_ID'].isnull()]\n",
        "print(missing_transaction_ids)"
      ],
      "metadata": {
        "colab": {
          "base_uri": "https://localhost:8080/"
        },
        "id": "-NU4d97RFoAW",
        "outputId": "be23512a-ba6d-4589-ff75-b12b67312b42"
      },
      "execution_count": 262,
      "outputs": [
        {
          "output_type": "stream",
          "name": "stdout",
          "text": [
            "      Transaction_ID  Company_ID  Product_ID  Quantity Transaction_Date  \\\n",
            "2                NaN        28.0        18.0         6       2024-04-13   \n",
            "17               NaN        57.0        10.0         6       2022-07-10   \n",
            "21               NaN        25.0        18.0         2       2021-03-21   \n",
            "25               NaN        93.0         9.0        11       2021-09-21   \n",
            "55               NaN         NaN        11.0        16       2023-03-08   \n",
            "...              ...         ...         ...       ...              ...   \n",
            "9981             NaN         NaN         5.0        11       2022-03-29   \n",
            "9984             NaN        93.0        19.0        11       2021-03-25   \n",
            "9995             NaN         NaN        10.0        11       2022-06-05   \n",
            "9997             NaN        90.0         1.0        15       2022-07-19   \n",
            "9999             NaN        77.0        16.0        14       2023-10-29   \n",
            "\n",
            "      Product_Price  Total_Cost  \n",
            "2         126095.55    940800.0  \n",
            "17        131297.78    627200.0  \n",
            "21        123745.16         NaN  \n",
            "25        131297.78   1792000.0  \n",
            "55        169357.61   2665600.0  \n",
            "...             ...         ...  \n",
            "9981      131297.78    672000.0  \n",
            "9984       95504.30    952000.0  \n",
            "9995      131297.78    627200.0  \n",
            "9997      128137.09   1960000.0  \n",
            "9999      115708.40   1489600.0  \n",
            "\n",
            "[1000 rows x 7 columns]\n"
          ]
        }
      ]
    },
    {
      "cell_type": "code",
      "source": [
        "# Assign unique identifiers\n",
        "# Find the maximum existing Transaction_ID\n",
        "max_transaction_id = transactions_data['Transaction_ID'].max()\n",
        "\n",
        "# Assign unique IDs to missing Transaction_IDs\n",
        "transactions_data.loc[transactions_data['Transaction_ID'].isnull(), 'Transaction_ID'] = range(\n",
        "    int(max_transaction_id) + 1,\n",
        "    int(max_transaction_id) + 1 + transactions_data['Transaction_ID'].isnull().sum()\n",
        ")\n",
        "\n",
        "# Convert Transaction_ID to integer type (if necessary)\n",
        "transactions_data['Transaction_ID'] = transactions_data['Transaction_ID'].astype(int)\n",
        "\n",
        "# Verify updates\n",
        "print(transactions_data['Transaction_ID'].isnull().sum())"
      ],
      "metadata": {
        "colab": {
          "base_uri": "https://localhost:8080/"
        },
        "id": "g5CIvlhNFoSg",
        "outputId": "d20875ad-ac1e-44a5-a8c8-6f3571d617b2"
      },
      "execution_count": 263,
      "outputs": [
        {
          "output_type": "stream",
          "name": "stdout",
          "text": [
            "0\n"
          ]
        }
      ]
    },
    {
      "cell_type": "code",
      "source": [
        "# Identify rows with missing Company ID\n",
        "missing_company_id = transactions_data[transactions_data['Company_ID'].isnull()]\n",
        "print(\"Rows with missing Company_ID:\\n\", missing_company_id)"
      ],
      "metadata": {
        "colab": {
          "base_uri": "https://localhost:8080/"
        },
        "id": "I2isTECbHuUv",
        "outputId": "48f2cc8f-395b-447b-a4a2-b53cb8a2f9b6"
      },
      "execution_count": 264,
      "outputs": [
        {
          "output_type": "stream",
          "name": "stdout",
          "text": [
            "Rows with missing Company_ID:\n",
            "       Transaction_ID  Company_ID  Product_ID  Quantity Transaction_Date  \\\n",
            "6                  7         NaN         NaN        14       2023-11-01   \n",
            "11                12         NaN         1.0        17       2022-04-05   \n",
            "12                13         NaN        12.0        15       2023-02-27   \n",
            "26                27         NaN        14.0        18       2023-03-01   \n",
            "36                37         NaN         8.0        17       2023-03-16   \n",
            "...              ...         ...         ...       ...              ...   \n",
            "9962            9963         NaN        13.0         3       2023-03-14   \n",
            "9965            9966         NaN         NaN         2       2022-11-13   \n",
            "9972            9973         NaN         NaN        11       2021-04-20   \n",
            "9981           10995         NaN         5.0        11       2022-03-29   \n",
            "9995           10997         NaN        10.0        11       2022-06-05   \n",
            "\n",
            "      Product_Price  Total_Cost  \n",
            "6         133548.75   1960000.0  \n",
            "11        135382.95   2520000.0  \n",
            "12         82352.48   1260000.0  \n",
            "26        124948.88   2447200.0  \n",
            "36        139881.22         NaN  \n",
            "...             ...         ...  \n",
            "9962      192970.78    588000.0  \n",
            "9965       80195.99    168000.0  \n",
            "9972      120952.88    386400.0  \n",
            "9981      131297.78    672000.0  \n",
            "9995      131297.78    627200.0  \n",
            "\n",
            "[1000 rows x 7 columns]\n"
          ]
        }
      ]
    },
    {
      "cell_type": "code",
      "source": [
        "# Create a mapping of Product_ID to Company_ID\n",
        "product_to_company_map = transactions_data.dropna(subset=['Company_ID']).groupby('Product_ID')['Company_ID'].first()\n",
        "\n",
        "# Fill missing Company_ID values based on Product_ID\n",
        "transactions_data['Company_ID'] = transactions_data['Product_ID'].map(product_to_company_map)\n",
        "\n",
        "# Verify the filling process\n",
        "print(transactions_data['Company_ID'].isnull().sum())  # Should be 0 if all missing values are filled"
      ],
      "metadata": {
        "colab": {
          "base_uri": "https://localhost:8080/"
        },
        "id": "Lp58xv0cxanI",
        "outputId": "f98181b2-7d82-417d-cdab-29fa4c9ccce8"
      },
      "execution_count": 265,
      "outputs": [
        {
          "output_type": "stream",
          "name": "stdout",
          "text": [
            "1000\n"
          ]
        }
      ]
    },
    {
      "cell_type": "code",
      "source": [
        "# Assign a default Company_ID to rows still missing Company_ID\n",
        "transactions_data['Company_ID'] = transactions_data['Company_ID'].fillna('Default_Company')\n",
        "\n",
        "# Verify final missing values\n",
        "print(transactions_data['Company_ID'].isnull().sum())  # Should be 0"
      ],
      "metadata": {
        "colab": {
          "base_uri": "https://localhost:8080/"
        },
        "id": "qakAbHB_x6xV",
        "outputId": "1317de61-6748-4b77-84fd-48b0a1f05e61"
      },
      "execution_count": 266,
      "outputs": [
        {
          "output_type": "stream",
          "name": "stdout",
          "text": [
            "0\n"
          ]
        }
      ]
    },
    {
      "cell_type": "code",
      "source": [
        "# Identify rows with missing Product_ID\n",
        "missing_product_ids = transactions_data[transactions_data['Product_ID'].isnull()]\n",
        "print(\"Rows with missing Product_ID:\", missing_product_ids)"
      ],
      "metadata": {
        "colab": {
          "base_uri": "https://localhost:8080/"
        },
        "id": "UQ3gMbL1yuJm",
        "outputId": "0f54985a-ca93-4b1e-bed8-3b74fbe5bae2"
      },
      "execution_count": 267,
      "outputs": [
        {
          "output_type": "stream",
          "name": "stdout",
          "text": [
            "Rows with missing Product_ID:       Transaction_ID       Company_ID  Product_ID  Quantity Transaction_Date  \\\n",
            "6                  7  Default_Company         NaN        14       2023-11-01   \n",
            "41                42  Default_Company         NaN        18       2021-07-01   \n",
            "49                50  Default_Company         NaN         3       2023-01-13   \n",
            "52                53  Default_Company         NaN        17       2021-10-24   \n",
            "83                84  Default_Company         NaN        18       2023-04-22   \n",
            "...              ...              ...         ...       ...              ...   \n",
            "9961            9962  Default_Company         NaN         9       2022-05-07   \n",
            "9963            9964  Default_Company         NaN        15       2023-06-20   \n",
            "9965            9966  Default_Company         NaN         2       2022-11-13   \n",
            "9972            9973  Default_Company         NaN        11       2021-04-20   \n",
            "9998            9999  Default_Company         NaN        19       2021-04-15   \n",
            "\n",
            "      Product_Price  Total_Cost  \n",
            "6         133548.75   1960000.0  \n",
            "41         94403.78   1808800.0  \n",
            "49         86830.79    380800.0  \n",
            "52        131297.78   1915200.0  \n",
            "83        152629.41   2856000.0  \n",
            "...             ...         ...  \n",
            "9961      131297.78   1344000.0  \n",
            "9963      191980.68   3136000.0  \n",
            "9965       80195.99    168000.0  \n",
            "9972      120952.88    386400.0  \n",
            "9998       81786.12   1680000.0  \n",
            "\n",
            "[1000 rows x 7 columns]\n"
          ]
        }
      ]
    },
    {
      "cell_type": "code",
      "source": [
        "# Create a mapping of Company_ID to Product_ID\n",
        "company_to_product_map = transactions_data.dropna(subset=['Product_ID']).groupby('Company_ID')['Product_ID'].first()\n",
        "\n",
        "# Fill missing Product_ID values based on Company_ID\n",
        "transactions_data['Product_ID'] = transactions_data['Product_ID'].fillna(transactions_data['Company_ID'].map(company_to_product_map))\n",
        "\n",
        "# Verify the filling process\n",
        "print(transactions_data['Product_ID'].isnull().sum())  # Should be 0 if all missing Product_IDs are filled\n",
        "\n",
        "# Assign a default value to rows still missing Product_ID\n",
        "transactions_data['Product_ID'] = transactions_data['Product_ID'].fillna('Default_Product')\n",
        "\n",
        "# Verify final missing values\n",
        "print(transactions_data['Product_ID'].isnull().sum())  # Should be 0 if all missing values are filled"
      ],
      "metadata": {
        "colab": {
          "base_uri": "https://localhost:8080/"
        },
        "id": "45bbB_G4zERx",
        "outputId": "487b2558-2a83-46a4-bbc8-81f65bae4083"
      },
      "execution_count": 268,
      "outputs": [
        {
          "output_type": "stream",
          "name": "stdout",
          "text": [
            "1000\n",
            "0\n"
          ]
        }
      ]
    },
    {
      "cell_type": "code",
      "source": [
        "# Investigate remaining missing rows\n",
        "remaining_missing = transactions_data[transactions_data['Company_ID'].isnull()]\n",
        "print(\"Remaining rows with missing Company_ID:\\n\", remaining_missing)"
      ],
      "metadata": {
        "colab": {
          "base_uri": "https://localhost:8080/"
        },
        "id": "C2c4M3v9KiLg",
        "outputId": "665dd5fd-1337-4b04-b02b-5c92ea41bf19"
      },
      "execution_count": 269,
      "outputs": [
        {
          "output_type": "stream",
          "name": "stdout",
          "text": [
            "Remaining rows with missing Company_ID:\n",
            " Empty DataFrame\n",
            "Columns: [Transaction_ID, Company_ID, Product_ID, Quantity, Transaction_Date, Product_Price, Total_Cost]\n",
            "Index: []\n"
          ]
        }
      ]
    },
    {
      "cell_type": "code",
      "source": [
        "# Recalculate Total_Cost for missing values\n",
        "transactions_data['Total_Cost'] = transactions_data.apply(\n",
        "    lambda row: row['Quantity'] * row['Product_Price'] if pd.isnull(row['Total_Cost']) else row['Total_Cost'],\n",
        "    axis=1\n",
        ")\n",
        "# Recheck\n",
        "print(transactions_data.isnull().sum())"
      ],
      "metadata": {
        "colab": {
          "base_uri": "https://localhost:8080/"
        },
        "id": "OylfQlcPLObN",
        "outputId": "21045921-5f28-413c-de09-316bf0a49a28"
      },
      "execution_count": 270,
      "outputs": [
        {
          "output_type": "stream",
          "name": "stdout",
          "text": [
            "Transaction_ID      0\n",
            "Company_ID          0\n",
            "Product_ID          0\n",
            "Quantity            0\n",
            "Transaction_Date    0\n",
            "Product_Price       0\n",
            "Total_Cost          0\n",
            "dtype: int64\n"
          ]
        }
      ]
    },
    {
      "cell_type": "code",
      "source": [
        "# Save the Cleaned Dataset\n",
        "transactions_data.to_csv('/content/drive/MyDrive/cleaned_transactions_data.csv', index=False)"
      ],
      "metadata": {
        "id": "VBcIO7FcRY8r"
      },
      "execution_count": 271,
      "outputs": []
    },
    {
      "cell_type": "code",
      "source": [
        "# Preprocessing Products Data\n",
        "# Basic information about the dataset\n",
        "print(products_data.info())\n",
        "print(products_data.head())"
      ],
      "metadata": {
        "colab": {
          "base_uri": "https://localhost:8080/"
        },
        "id": "fGm5fwwnTIPJ",
        "outputId": "497368be-abfa-404d-9f54-710c322c92dc"
      },
      "execution_count": 277,
      "outputs": [
        {
          "output_type": "stream",
          "name": "stdout",
          "text": [
            "<class 'pandas.core.frame.DataFrame'>\n",
            "RangeIndex: 20 entries, 0 to 19\n",
            "Data columns (total 3 columns):\n",
            " #   Column         Non-Null Count  Dtype  \n",
            "---  ------         --------------  -----  \n",
            " 0   Product_ID     18 non-null     float64\n",
            " 1   Product_Name   20 non-null     object \n",
            " 2   Product_Price  20 non-null     object \n",
            "dtypes: float64(1), object(2)\n",
            "memory usage: 612.0+ bytes\n",
            "None\n",
            "   Product_ID            Product_Name Product_Price\n",
            "0         1.0      FinPredictor Suite      ?140,000\n",
            "1         2.0  MarketMinder Analytics      ?168,000\n",
            "2         3.0    TrendWise Forecaster      ?100,800\n",
            "3         4.0  CustomerScope Insights      ?123,200\n",
            "4         5.0     SalesSync Optimizer       ?84,000\n"
          ]
        }
      ]
    },
    {
      "cell_type": "code",
      "source": [
        "# Fill missing Product_ID values with a placeholder\n",
        "products_data['Product_ID'] = products_data['Product_ID'].fillna(0)\n",
        "\n",
        "# Convert Product_ID to integer (whole numbers)\n",
        "products_data['Product_ID'] = products_data['Product_ID'].astype(int)\n",
        "\n",
        "# Verify the conversion\n",
        "print(products_data['Product_ID'].head())"
      ],
      "metadata": {
        "id": "oYDnVxcr4m-C",
        "outputId": "eb7ab6ea-44f7-4ad9-e857-ab5b7075be36",
        "colab": {
          "base_uri": "https://localhost:8080/"
        }
      },
      "execution_count": 284,
      "outputs": [
        {
          "output_type": "stream",
          "name": "stdout",
          "text": [
            "0    1\n",
            "1    2\n",
            "2    3\n",
            "3    4\n",
            "4    5\n",
            "Name: Product_ID, dtype: int64\n"
          ]
        }
      ]
    },
    {
      "cell_type": "code",
      "source": [
        "# Remove non-numeric characters and convert to float\n",
        "products_data['Product_Price'] = products_data['Product_Price'].replace([r'[^\\d.]'], '', regex=True).astype(float)\n",
        "\n",
        "# Check the data after cleaning\n",
        "print(products_data['Product_Price'].head())"
      ],
      "metadata": {
        "id": "bpeHsC1E4E8N",
        "outputId": "5daa76f2-f359-43f4-b97e-2e7f7000289e",
        "colab": {
          "base_uri": "https://localhost:8080/"
        }
      },
      "execution_count": 285,
      "outputs": [
        {
          "output_type": "stream",
          "name": "stdout",
          "text": [
            "0    140000.0\n",
            "1    168000.0\n",
            "2    100800.0\n",
            "3    123200.0\n",
            "4     84000.0\n",
            "Name: Product_Price, dtype: float64\n"
          ]
        }
      ]
    },
    {
      "cell_type": "code",
      "source": [
        "# Check for duplicates based on Product_ID, Product_Name, and Product_Price\n",
        "duplicates = products_data[products_data.duplicated(subset=['Product_ID', 'Product_Name', 'Product_Price'], keep=False)]\n",
        "print(\"Duplicate rows:\", duplicates)"
      ],
      "metadata": {
        "id": "eFK8aKZu477C",
        "outputId": "206e3f9a-a849-4711-9900-f8d41e09605e",
        "colab": {
          "base_uri": "https://localhost:8080/"
        }
      },
      "execution_count": 286,
      "outputs": [
        {
          "output_type": "stream",
          "name": "stdout",
          "text": [
            "Duplicate rows: Empty DataFrame\n",
            "Columns: [Product_ID, Product_Name, Product_Price]\n",
            "Index: []\n"
          ]
        }
      ]
    },
    {
      "cell_type": "code",
      "source": [
        "# Save the cleaned data to Google Drive\n",
        "products_data.to_csv('/content/drive/MyDrive/cleaned_products_data.csv', index=False)"
      ],
      "metadata": {
        "id": "gcgwSsuX4-kn"
      },
      "execution_count": 287,
      "outputs": []
    }
  ]
}