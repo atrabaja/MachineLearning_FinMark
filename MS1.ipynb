{
  "nbformat": 4,
  "nbformat_minor": 0,
  "metadata": {
    "colab": {
      "provenance": [],
      "authorship_tag": "ABX9TyPvLqTWCkC7loMXd7mlxEA+",
      "include_colab_link": true
    },
    "kernelspec": {
      "name": "python3",
      "display_name": "Python 3"
    },
    "language_info": {
      "name": "python"
    }
  },
  "cells": [
    {
      "cell_type": "markdown",
      "metadata": {
        "id": "view-in-github",
        "colab_type": "text"
      },
      "source": [
        "<a href=\"https://colab.research.google.com/github/atrabaja/MachineLearning_FinMark/blob/main/MS1.ipynb\" target=\"_parent\"><img src=\"https://colab.research.google.com/assets/colab-badge.svg\" alt=\"Open In Colab\"/></a>"
      ]
    },
    {
      "cell_type": "code",
      "source": [
        "from google.colab import drive\n",
        "drive.mount('/content/drive')"
      ],
      "metadata": {
        "colab": {
          "base_uri": "https://localhost:8080/"
        },
        "id": "G1AtT4ET4utK",
        "outputId": "c9eb0298-c37d-4ff8-d1bd-73c1d07a5ec4"
      },
      "execution_count": 93,
      "outputs": [
        {
          "output_type": "stream",
          "name": "stdout",
          "text": [
            "Drive already mounted at /content/drive; to attempt to forcibly remount, call drive.mount(\"/content/drive\", force_remount=True).\n"
          ]
        }
      ]
    },
    {
      "cell_type": "code",
      "source": [
        "import os\n",
        "data_path = '/content/drive/MyDrive'"
      ],
      "metadata": {
        "id": "xk22DoupZjOr"
      },
      "execution_count": 94,
      "outputs": []
    },
    {
      "cell_type": "code",
      "source": [
        "# Import libraries\n",
        "import pandas as pd\n",
        "import numpy as np\n",
        "from sklearn.model_selection import train_test_split\n",
        "from sklearn.ensemble import RandomForestClassifier\n",
        "from sklearn.metrics import classification_report, accuracy_score"
      ],
      "metadata": {
        "id": "zX6JhoEAvcDx"
      },
      "execution_count": 95,
      "outputs": []
    },
    {
      "cell_type": "code",
      "source": [
        "# Define file paths\n",
        "customers_file_path = '/content/drive/My Drive/customers_data.csv'\n",
        "products_file_path = '/content/drive/My Drive/products_data.csv'\n",
        "transactions_file_path = '/content/drive/My Drive/transactions_data.csv'"
      ],
      "metadata": {
        "id": "Td2CG2sY0ydG"
      },
      "execution_count": 96,
      "outputs": []
    },
    {
      "cell_type": "code",
      "source": [
        "# Load datasets\n",
        "customers_data = pd.read_csv(customers_file_path)\n",
        "products_data = pd.read_csv(products_file_path)\n",
        "transactions_data = pd.read_csv(transactions_file_path)\n",
        "\n",
        "# Display the first few rows of each dataset\n",
        "print(customers_data.head())\n",
        "print(products_data.head())\n",
        "print(transactions_data.head())"
      ],
      "metadata": {
        "colab": {
          "base_uri": "https://localhost:8080/"
        },
        "id": "sTXgJ6-L_c2z",
        "outputId": "f4606704-3724-498f-ebce-b67612a89a4d"
      },
      "execution_count": 97,
      "outputs": [
        {
          "output_type": "stream",
          "name": "stdout",
          "text": [
            "   Company_ID          Company_Name  Company_Profit  \\\n",
            "0         1.0  Tech  Enterprises  1         80701.0   \n",
            "1         2.0   Global  Partners  2         80511.0   \n",
            "2         3.0  Quantum Associates 3        110664.0   \n",
            "3         4.0       Prime Network 4             NaN   \n",
            "4         5.0    Elite  Ventures  5         69427.0   \n",
            "\n",
            "                                             Address  \n",
            "0             EDSA, Barangay 606, Pasig, Philippines  \n",
            "1  Commonwealth Ave, Barangay 789, Taguig, Philip...  \n",
            "2       Roxas Blvd, Barangay 505, Pasig, Philippines  \n",
            "3  Alabang-Zapote Rd, Barangay 202, Taguig, Phili...  \n",
            "4    Ayala Avenue, Barangay 101, Makati, Philippines  \n",
            "   Product_ID            Product_Name Product_Price\n",
            "0         1.0      FinPredictor Suite      ?140,000\n",
            "1         2.0  MarketMinder Analytics      ?168,000\n",
            "2         3.0    TrendWise Forecaster      ?100,800\n",
            "3         4.0  CustomerScope Insights      ?123,200\n",
            "4         5.0     SalesSync Optimizer       ?84,000\n",
            "   Unnamed: 0  Transaction_ID  Company_ID  Product_ID  Quantity  \\\n",
            "0         0.0             1.0        88.0         6.0       NaN   \n",
            "1         1.0             2.0        29.0        19.0      16.0   \n",
            "2         2.0             NaN        28.0        18.0       6.0   \n",
            "3         3.0             4.0        85.0        12.0      12.0   \n",
            "4         4.0             5.0        47.0         3.0       8.0   \n",
            "\n",
            "  Transaction_Date  Product_Price  Total_Cost  \n",
            "0       2024/03/26  194379.147964   1075200.0  \n",
            "1    July 09, 2024   97930.993380   1428000.0  \n",
            "2       04/13/2024  126095.547778    940800.0  \n",
            "3       09-06-2023            NaN   1008000.0  \n",
            "4       07/06/2021   99575.609634    705600.0  \n"
          ]
        }
      ]
    },
    {
      "cell_type": "code",
      "source": [
        "# Preprocessing Customers Data\n",
        "# Identify rows with missing Company_ID\n",
        "missing_ids = customers_data[customers_data['Company_ID'].isnull()]\n",
        "\n",
        "# Map existing Company_IDs to rows with missing IDs based on matching columns\n",
        "customers_data['Company_ID'] = customers_data['Company_ID'].fillna(\n",
        "    customers_data.merge(\n",
        "        customers_data[['Company_ID', 'Company_Name', 'Address', 'Company_Profit']].dropna(subset=['Company_ID']),\n",
        "        on=['Company_Name', 'Address', 'Company_Profit'],\n",
        "        how='left'\n",
        "    )['Company_ID_y']\n",
        ")"
      ],
      "metadata": {
        "id": "GO52nJqo7nHG"
      },
      "execution_count": 98,
      "outputs": []
    },
    {
      "cell_type": "code",
      "source": [
        "# Find the maximum existing Company_ID\n",
        "max_id = customers_data['Company_ID'].max()\n",
        "\n",
        "# Assign unique IDs to remaining missing rows\n",
        "customers_data.loc[customers_data['Company_ID'].isnull(), 'Company_ID'] = range(\n",
        "    int(max_id) + 1, int(max_id) + 1 + customers_data['Company_ID'].isnull().sum()\n",
        ")\n",
        "\n",
        "# Convert Company_ID to integer type\n",
        "customers_data['Company_ID'] = customers_data['Company_ID'].astype(int)"
      ],
      "metadata": {
        "id": "q9Ik_Esw7pou"
      },
      "execution_count": 99,
      "outputs": []
    },
    {
      "cell_type": "code",
      "source": [
        "# Check for duplicates based on Company_Name, Address, and Company_Profit\n",
        "duplicates = customers_data[customers_data.duplicated(subset=['Company_Name', 'Address', 'Company_Profit'], keep=False)]\n",
        "print(duplicates)\n",
        "\n",
        "# Drop duplicates if necessary\n",
        "customers_data = customers_data.drop_duplicates(subset=['Company_Name', 'Address', 'Company_Profit'], keep='first')"
      ],
      "metadata": {
        "colab": {
          "base_uri": "https://localhost:8080/"
        },
        "id": "eC7Jjy3f7wy-",
        "outputId": "09b479b9-ee43-464a-c9f3-27941bcad1e2"
      },
      "execution_count": 100,
      "outputs": [
        {
          "output_type": "stream",
          "name": "stdout",
          "text": [
            "Empty DataFrame\n",
            "Columns: [Company_ID, Company_Name, Company_Profit, Address]\n",
            "Index: []\n"
          ]
        }
      ]
    },
    {
      "cell_type": "code",
      "source": [
        "# Verify there are no missing values or duplicates\n",
        "print(customers_data.isnull().sum())\n",
        "print(customers_data.duplicated().sum())\n",
        "\n",
        "# Display dataset summary\n",
        "print(customers_data.info())\n",
        "print(customers_data.head())"
      ],
      "metadata": {
        "colab": {
          "base_uri": "https://localhost:8080/"
        },
        "id": "A1yeM7Ma74-L",
        "outputId": "d19e6e10-d1d9-4258-d38a-49a7231d51fb"
      },
      "execution_count": 101,
      "outputs": [
        {
          "output_type": "stream",
          "name": "stdout",
          "text": [
            "Company_ID         0\n",
            "Company_Name       0\n",
            "Company_Profit    12\n",
            "Address            0\n",
            "dtype: int64\n",
            "0\n",
            "<class 'pandas.core.frame.DataFrame'>\n",
            "RangeIndex: 100 entries, 0 to 99\n",
            "Data columns (total 4 columns):\n",
            " #   Column          Non-Null Count  Dtype  \n",
            "---  ------          --------------  -----  \n",
            " 0   Company_ID      100 non-null    int64  \n",
            " 1   Company_Name    100 non-null    object \n",
            " 2   Company_Profit  88 non-null     float64\n",
            " 3   Address         100 non-null    object \n",
            "dtypes: float64(1), int64(1), object(2)\n",
            "memory usage: 3.3+ KB\n",
            "None\n",
            "   Company_ID          Company_Name  Company_Profit  \\\n",
            "0           1  Tech  Enterprises  1         80701.0   \n",
            "1           2   Global  Partners  2         80511.0   \n",
            "2           3  Quantum Associates 3        110664.0   \n",
            "3           4       Prime Network 4             NaN   \n",
            "4           5    Elite  Ventures  5         69427.0   \n",
            "\n",
            "                                             Address  \n",
            "0             EDSA, Barangay 606, Pasig, Philippines  \n",
            "1  Commonwealth Ave, Barangay 789, Taguig, Philip...  \n",
            "2       Roxas Blvd, Barangay 505, Pasig, Philippines  \n",
            "3  Alabang-Zapote Rd, Barangay 202, Taguig, Phili...  \n",
            "4    Ayala Avenue, Barangay 101, Makati, Philippines  \n"
          ]
        }
      ]
    },
    {
      "cell_type": "code",
      "source": [
        "# Remove numbers from the Company_Name column\n",
        "customers_data['Company_Name'] = customers_data['Company_Name'].str.replace(r'\\d+', '', regex=True).str.strip()\n",
        "\n",
        "# Verify the changes\n",
        "print(customers_data['Company_Name'].head())"
      ],
      "metadata": {
        "colab": {
          "base_uri": "https://localhost:8080/"
        },
        "id": "67c8Blkc8Xqm",
        "outputId": "41ca8512-a75a-41f1-ee81-57811be13382"
      },
      "execution_count": 102,
      "outputs": [
        {
          "output_type": "stream",
          "name": "stdout",
          "text": [
            "0     Tech  Enterprises\n",
            "1      Global  Partners\n",
            "2    Quantum Associates\n",
            "3         Prime Network\n",
            "4       Elite  Ventures\n",
            "Name: Company_Name, dtype: object\n"
          ]
        }
      ]
    },
    {
      "cell_type": "code",
      "source": [
        "# Fill missing Company_Profit based on Address group median\n",
        "customers_data['Company_Profit'] = customers_data.groupby('Address')['Company_Profit'].transform(\n",
        "    lambda x: x.fillna(x.median())\n",
        ")"
      ],
      "metadata": {
        "id": "rNRqxzuz8X6e"
      },
      "execution_count": 103,
      "outputs": []
    },
    {
      "cell_type": "code",
      "source": [
        "# Verify no missing values remain\n",
        "print(customers_data.isnull().sum())\n",
        "\n",
        "# Display updated dataset\n",
        "print(customers_data.head())"
      ],
      "metadata": {
        "colab": {
          "base_uri": "https://localhost:8080/"
        },
        "id": "qfncHAPi-RAg",
        "outputId": "fbdfeba0-467f-46a9-c6d3-2bc422a22a1b"
      },
      "execution_count": 104,
      "outputs": [
        {
          "output_type": "stream",
          "name": "stdout",
          "text": [
            "Company_ID         0\n",
            "Company_Name       0\n",
            "Company_Profit    12\n",
            "Address            0\n",
            "dtype: int64\n",
            "   Company_ID        Company_Name  Company_Profit  \\\n",
            "0           1   Tech  Enterprises         80701.0   \n",
            "1           2    Global  Partners         80511.0   \n",
            "2           3  Quantum Associates        110664.0   \n",
            "3           4       Prime Network             NaN   \n",
            "4           5     Elite  Ventures         69427.0   \n",
            "\n",
            "                                             Address  \n",
            "0             EDSA, Barangay 606, Pasig, Philippines  \n",
            "1  Commonwealth Ave, Barangay 789, Taguig, Philip...  \n",
            "2       Roxas Blvd, Barangay 505, Pasig, Philippines  \n",
            "3  Alabang-Zapote Rd, Barangay 202, Taguig, Phili...  \n",
            "4    Ayala Avenue, Barangay 101, Makati, Philippines  \n"
          ]
        }
      ]
    },
    {
      "cell_type": "code",
      "source": [
        "# Cleaned customer data\n",
        "customers_data.to_csv('/content/drive/MyDrive/cleaned_customers_data.csv', index=False)"
      ],
      "metadata": {
        "id": "ah0KEdDD_QHe"
      },
      "execution_count": 105,
      "outputs": []
    },
    {
      "cell_type": "code",
      "source": [
        "# Preprocessing Transactions Data\n",
        "# Check basic info\n",
        "print(transactions_data.info())\n",
        "print(transactions_data.head())\n",
        "\n",
        "# Check for missing values\n",
        "print(transactions_data.isnull().sum())"
      ],
      "metadata": {
        "colab": {
          "base_uri": "https://localhost:8080/"
        },
        "id": "7sKuq6Z2_acS",
        "outputId": "6dd0c222-52ac-4a47-aaf9-fb50650a4bc9"
      },
      "execution_count": 106,
      "outputs": [
        {
          "output_type": "stream",
          "name": "stdout",
          "text": [
            "<class 'pandas.core.frame.DataFrame'>\n",
            "RangeIndex: 10000 entries, 0 to 9999\n",
            "Data columns (total 8 columns):\n",
            " #   Column            Non-Null Count  Dtype  \n",
            "---  ------            --------------  -----  \n",
            " 0   Unnamed: 0        9000 non-null   float64\n",
            " 1   Transaction_ID    9000 non-null   float64\n",
            " 2   Company_ID        9000 non-null   float64\n",
            " 3   Product_ID        9000 non-null   float64\n",
            " 4   Quantity          9000 non-null   float64\n",
            " 5   Transaction_Date  10000 non-null  object \n",
            " 6   Product_Price     9000 non-null   float64\n",
            " 7   Total_Cost        9000 non-null   float64\n",
            "dtypes: float64(7), object(1)\n",
            "memory usage: 625.1+ KB\n",
            "None\n",
            "   Unnamed: 0  Transaction_ID  Company_ID  Product_ID  Quantity  \\\n",
            "0         0.0             1.0        88.0         6.0       NaN   \n",
            "1         1.0             2.0        29.0        19.0      16.0   \n",
            "2         2.0             NaN        28.0        18.0       6.0   \n",
            "3         3.0             4.0        85.0        12.0      12.0   \n",
            "4         4.0             5.0        47.0         3.0       8.0   \n",
            "\n",
            "  Transaction_Date  Product_Price  Total_Cost  \n",
            "0       2024/03/26  194379.147964   1075200.0  \n",
            "1    July 09, 2024   97930.993380   1428000.0  \n",
            "2       04/13/2024  126095.547778    940800.0  \n",
            "3       09-06-2023            NaN   1008000.0  \n",
            "4       07/06/2021   99575.609634    705600.0  \n",
            "Unnamed: 0          1000\n",
            "Transaction_ID      1000\n",
            "Company_ID          1000\n",
            "Product_ID          1000\n",
            "Quantity            1000\n",
            "Transaction_Date       0\n",
            "Product_Price       1000\n",
            "Total_Cost          1000\n",
            "dtype: int64\n"
          ]
        }
      ]
    },
    {
      "cell_type": "code",
      "source": [
        "# Dropped unnamed column\n",
        "transactions_data = transactions_data.drop(columns=['Unnamed: 0'])"
      ],
      "metadata": {
        "id": "-RMhtwbqDtH_"
      },
      "execution_count": 107,
      "outputs": []
    },
    {
      "cell_type": "code",
      "source": [
        "# Handle missing values in Quantity and ensure it's a whole number\n",
        "transactions_data['Quantity'] = transactions_data['Quantity'].fillna(transactions_data['Quantity'].median())\n",
        "transactions_data['Quantity'] = transactions_data['Quantity'].astype(int)  # Convert to whole number"
      ],
      "metadata": {
        "id": "Wcvr515bwddG"
      },
      "execution_count": 108,
      "outputs": []
    },
    {
      "cell_type": "code",
      "source": [
        "# Handle missing values in Product_Price and ensure it's in two decimal places\n",
        "transactions_data['Product_Price'] = transactions_data['Product_Price'].fillna(transactions_data['Product_Price'].median())\n",
        "transactions_data['Product_Price'] = transactions_data['Product_Price'].round(2)  # Round to 2 decimal places"
      ],
      "metadata": {
        "id": "V2Vf4pUVwwY-"
      },
      "execution_count": 109,
      "outputs": []
    },
    {
      "cell_type": "code",
      "source": [
        "# Display unique formats in Transaction_Date\n",
        "print(\"Unique formats in Transaction_Date before conversion:\\n\", transactions_data['Transaction_Date'].unique())\n",
        "\n",
        "# Define a function to parse different date formats\n",
        "def parse_date(date_str):\n",
        "    # Attempt to parse several known formats\n",
        "    for fmt in ('%Y-%m-%d', '%d-%m-%Y', '%m-%d-%Y', '%Y/%m/%d', '%d/%m/%Y', '%m/%d/%Y', '%B %d, %Y', '%d %B %Y'):\n",
        "        try:\n",
        "            return pd.to_datetime(date_str, format=fmt)\n",
        "        except (ValueError, TypeError):\n",
        "            continue  # Try the next format if this one fails\n",
        "    return pd.NaT  # Return NaT if no formats worked\n",
        "\n",
        "# Apply the parsing function\n",
        "transactions_data['Transaction_Date'] = transactions_data['Transaction_Date'].apply(parse_date)\n",
        "\n",
        "# Check for NaT values after parsing\n",
        "nat_count = transactions_data['Transaction_Date'].isna().sum()\n",
        "print(\"NaT values in Transaction_Date column after conversion:\", nat_count)\n",
        "\n",
        "# Inspect problematic entries if there are any NaT values\n",
        "if nat_count > 0:\n",
        "    print(\"Remaining problematic date entries:\\n\", transactions_data[transactions_data['Transaction_Date'].isna()]['Transaction_Date'])\n",
        "\n",
        "# Confirm the data type of Transaction_Date after all conversions\n",
        "print(\"Data type of Transaction_Date after final conversion:\", transactions_data['Transaction_Date'].dtypes)"
      ],
      "metadata": {
        "colab": {
          "base_uri": "https://localhost:8080/"
        },
        "id": "HxINDX22CVBP",
        "outputId": "92ef16e7-27c9-446b-b55d-651f726e9d07"
      },
      "execution_count": 111,
      "outputs": [
        {
          "output_type": "stream",
          "name": "stdout",
          "text": [
            "Unique formats in Transaction_Date before conversion:\n",
            " <DatetimeArray>\n",
            "['2024-03-26 00:00:00', '2024-07-09 00:00:00', '2024-04-13 00:00:00',\n",
            " '2023-06-09 00:00:00', '2021-06-07 00:00:00', '2021-07-12 00:00:00',\n",
            " '2023-11-01 00:00:00', '2023-10-31 00:00:00', '2024-02-25 00:00:00',\n",
            " '2021-03-29 00:00:00',\n",
            " ...\n",
            " '2022-11-30 00:00:00', '2024-03-16 00:00:00', '2020-06-11 00:00:00',\n",
            " '2020-01-12 00:00:00', '2022-07-13 00:00:00', '2024-11-08 00:00:00',\n",
            " '2024-12-04 00:00:00', '2023-11-04 00:00:00', '2020-03-12 00:00:00',\n",
            " '2024-12-09 00:00:00']\n",
            "Length: 1490, dtype: datetime64[ns]\n",
            "NaT values in Transaction_Date column after conversion: 0\n",
            "Data type of Transaction_Date after final conversion: datetime64[ns]\n"
          ]
        }
      ]
    },
    {
      "cell_type": "code",
      "source": [
        "# Final check of the dataset\n",
        "print(transactions_data.info())\n",
        "print(transactions_data.head())"
      ],
      "metadata": {
        "colab": {
          "base_uri": "https://localhost:8080/"
        },
        "id": "N1XyqKJ7CVR-",
        "outputId": "808f6dd6-379f-4b1f-f3a9-e351d3811365"
      },
      "execution_count": 112,
      "outputs": [
        {
          "output_type": "stream",
          "name": "stdout",
          "text": [
            "<class 'pandas.core.frame.DataFrame'>\n",
            "RangeIndex: 10000 entries, 0 to 9999\n",
            "Data columns (total 7 columns):\n",
            " #   Column            Non-Null Count  Dtype         \n",
            "---  ------            --------------  -----         \n",
            " 0   Transaction_ID    9000 non-null   float64       \n",
            " 1   Company_ID        9000 non-null   float64       \n",
            " 2   Product_ID        9000 non-null   float64       \n",
            " 3   Quantity          10000 non-null  int64         \n",
            " 4   Transaction_Date  10000 non-null  datetime64[ns]\n",
            " 5   Product_Price     10000 non-null  float64       \n",
            " 6   Total_Cost        9000 non-null   float64       \n",
            "dtypes: datetime64[ns](1), float64(5), int64(1)\n",
            "memory usage: 547.0 KB\n",
            "None\n",
            "   Transaction_ID  Company_ID  Product_ID  Quantity Transaction_Date  \\\n",
            "0             1.0        88.0         6.0        11       2024-03-26   \n",
            "1             2.0        29.0        19.0        16       2024-07-09   \n",
            "2             NaN        28.0        18.0         6       2024-04-13   \n",
            "3             4.0        85.0        12.0        12       2023-06-09   \n",
            "4             5.0        47.0         3.0         8       2021-06-07   \n",
            "\n",
            "   Product_Price  Total_Cost  \n",
            "0      194379.15   1075200.0  \n",
            "1       97930.99   1428000.0  \n",
            "2      126095.55    940800.0  \n",
            "3      131297.78   1008000.0  \n",
            "4       99575.61    705600.0  \n"
          ]
        }
      ]
    },
    {
      "cell_type": "code",
      "source": [
        "# Verify Missing Values\n",
        "print(transactions_data.isnull().sum())"
      ],
      "metadata": {
        "colab": {
          "base_uri": "https://localhost:8080/"
        },
        "id": "c25Mlr4CDsbw",
        "outputId": "f140c4b7-e987-40ec-fdb8-faec1cecb37a"
      },
      "execution_count": 113,
      "outputs": [
        {
          "output_type": "stream",
          "name": "stdout",
          "text": [
            "Transaction_ID      1000\n",
            "Company_ID          1000\n",
            "Product_ID          1000\n",
            "Quantity               0\n",
            "Transaction_Date       0\n",
            "Product_Price          0\n",
            "Total_Cost          1000\n",
            "dtype: int64\n"
          ]
        }
      ]
    },
    {
      "cell_type": "code",
      "source": [
        "# Identify rows with missing Transaction_ID\n",
        "missing_transaction_ids = transactions_data[transactions_data['Transaction_ID'].isnull()]\n",
        "print(missing_transaction_ids)"
      ],
      "metadata": {
        "colab": {
          "base_uri": "https://localhost:8080/"
        },
        "id": "-NU4d97RFoAW",
        "outputId": "cd465d50-01e2-4d00-a3ef-a094b2c0d50d"
      },
      "execution_count": 114,
      "outputs": [
        {
          "output_type": "stream",
          "name": "stdout",
          "text": [
            "      Transaction_ID  Company_ID  Product_ID  Quantity Transaction_Date  \\\n",
            "2                NaN        28.0        18.0         6       2024-04-13   \n",
            "17               NaN        57.0        10.0         6       2022-07-10   \n",
            "21               NaN        25.0        18.0         2       2021-03-21   \n",
            "25               NaN        93.0         9.0        11       2021-09-21   \n",
            "55               NaN         NaN        11.0        16       2023-03-08   \n",
            "...              ...         ...         ...       ...              ...   \n",
            "9981             NaN         NaN         5.0        11       2022-03-29   \n",
            "9984             NaN        93.0        19.0        11       2021-03-25   \n",
            "9995             NaN         NaN        10.0        11       2022-06-05   \n",
            "9997             NaN        90.0         1.0        15       2022-07-19   \n",
            "9999             NaN        77.0        16.0        14       2023-10-29   \n",
            "\n",
            "      Product_Price  Total_Cost  \n",
            "2         126095.55    940800.0  \n",
            "17        131297.78    627200.0  \n",
            "21        123745.16         NaN  \n",
            "25        131297.78   1792000.0  \n",
            "55        169357.61   2665600.0  \n",
            "...             ...         ...  \n",
            "9981      131297.78    672000.0  \n",
            "9984       95504.30    952000.0  \n",
            "9995      131297.78    627200.0  \n",
            "9997      128137.09   1960000.0  \n",
            "9999      115708.40   1489600.0  \n",
            "\n",
            "[1000 rows x 7 columns]\n"
          ]
        }
      ]
    },
    {
      "cell_type": "code",
      "source": [
        "# Assign unique identifiers\n",
        "# Find the maximum existing Transaction_ID\n",
        "max_transaction_id = transactions_data['Transaction_ID'].max()\n",
        "\n",
        "# Assign unique IDs to missing Transaction_IDs\n",
        "transactions_data.loc[transactions_data['Transaction_ID'].isnull(), 'Transaction_ID'] = range(\n",
        "    int(max_transaction_id) + 1,\n",
        "    int(max_transaction_id) + 1 + transactions_data['Transaction_ID'].isnull().sum()\n",
        ")\n",
        "\n",
        "# Convert Transaction_ID to integer type (if necessary)\n",
        "transactions_data['Transaction_ID'] = transactions_data['Transaction_ID'].astype(int)\n",
        "\n",
        "# Verify updates\n",
        "print(transactions_data['Transaction_ID'].isnull().sum())"
      ],
      "metadata": {
        "colab": {
          "base_uri": "https://localhost:8080/"
        },
        "id": "g5CIvlhNFoSg",
        "outputId": "61f4e659-923b-4638-ab02-b074a35ccb74"
      },
      "execution_count": 115,
      "outputs": [
        {
          "output_type": "stream",
          "name": "stdout",
          "text": [
            "0\n"
          ]
        }
      ]
    },
    {
      "cell_type": "code",
      "source": [
        "# Identify rows with missing Company ID\n",
        "missing_company_id = transactions_data[transactions_data['Company_ID'].isnull()]\n",
        "print(\"Rows with missing Company_ID:\\n\", missing_company_id)"
      ],
      "metadata": {
        "colab": {
          "base_uri": "https://localhost:8080/"
        },
        "id": "I2isTECbHuUv",
        "outputId": "45083e53-2402-4f7d-cd2b-6833d2e241c4"
      },
      "execution_count": 116,
      "outputs": [
        {
          "output_type": "stream",
          "name": "stdout",
          "text": [
            "Rows with missing Company_ID:\n",
            "       Transaction_ID  Company_ID  Product_ID  Quantity Transaction_Date  \\\n",
            "6                  7         NaN         NaN        14       2023-11-01   \n",
            "11                12         NaN         1.0        17       2022-04-05   \n",
            "12                13         NaN        12.0        15       2023-02-27   \n",
            "26                27         NaN        14.0        18       2023-03-01   \n",
            "36                37         NaN         8.0        17       2023-03-16   \n",
            "...              ...         ...         ...       ...              ...   \n",
            "9962            9963         NaN        13.0         3       2023-03-14   \n",
            "9965            9966         NaN         NaN         2       2022-11-13   \n",
            "9972            9973         NaN         NaN        11       2021-04-20   \n",
            "9981           10995         NaN         5.0        11       2022-03-29   \n",
            "9995           10997         NaN        10.0        11       2022-06-05   \n",
            "\n",
            "      Product_Price  Total_Cost  \n",
            "6         133548.75   1960000.0  \n",
            "11        135382.95   2520000.0  \n",
            "12         82352.48   1260000.0  \n",
            "26        124948.88   2447200.0  \n",
            "36        139881.22         NaN  \n",
            "...             ...         ...  \n",
            "9962      192970.78    588000.0  \n",
            "9965       80195.99    168000.0  \n",
            "9972      120952.88    386400.0  \n",
            "9981      131297.78    672000.0  \n",
            "9995      131297.78    627200.0  \n",
            "\n",
            "[1000 rows x 7 columns]\n"
          ]
        }
      ]
    },
    {
      "cell_type": "code",
      "source": [
        "# Create a mapping of Product_ID to Company_ID\n",
        "product_to_company_map = transactions_data.dropna(subset=['Company_ID']).groupby('Product_ID')['Company_ID'].first()\n",
        "\n",
        "# Fill missing Company_ID values based on Product_ID\n",
        "transactions_data['Company_ID'] = transactions_data['Product_ID'].map(product_to_company_map)\n",
        "\n",
        "# Verify the filling process\n",
        "print(transactions_data['Company_ID'].isnull().sum())  # Should be 0 if all missing values are filled"
      ],
      "metadata": {
        "id": "Lp58xv0cxanI",
        "outputId": "197c9da3-b8a1-4965-c29d-930c412ee1b5",
        "colab": {
          "base_uri": "https://localhost:8080/"
        }
      },
      "execution_count": 117,
      "outputs": [
        {
          "output_type": "stream",
          "name": "stdout",
          "text": [
            "1000\n"
          ]
        }
      ]
    },
    {
      "cell_type": "code",
      "source": [
        "# Assign a default Company_ID to rows still missing Company_ID\n",
        "transactions_data['Company_ID'] = transactions_data['Company_ID'].fillna('Default_Company')\n",
        "\n",
        "# Verify final missing values\n",
        "print(transactions_data['Company_ID'].isnull().sum())  # Should be 0"
      ],
      "metadata": {
        "id": "qakAbHB_x6xV",
        "outputId": "f867b032-6586-43fc-c13f-003f464b1979",
        "colab": {
          "base_uri": "https://localhost:8080/"
        }
      },
      "execution_count": 118,
      "outputs": [
        {
          "output_type": "stream",
          "name": "stdout",
          "text": [
            "0\n"
          ]
        }
      ]
    },
    {
      "cell_type": "code",
      "source": [
        "# Identify rows with missing Product_ID\n",
        "missing_product_ids = transactions_data[transactions_data['Product_ID'].isnull()]\n",
        "print(\"Rows with missing Product_ID:\", missing_product_ids)"
      ],
      "metadata": {
        "id": "UQ3gMbL1yuJm",
        "outputId": "f38d8c8b-87c6-4d42-e54b-33440a2439df",
        "colab": {
          "base_uri": "https://localhost:8080/"
        }
      },
      "execution_count": 119,
      "outputs": [
        {
          "output_type": "stream",
          "name": "stdout",
          "text": [
            "Rows with missing Product_ID:       Transaction_ID       Company_ID  Product_ID  Quantity Transaction_Date  \\\n",
            "6                  7  Default_Company         NaN        14       2023-11-01   \n",
            "41                42  Default_Company         NaN        18       2021-07-01   \n",
            "49                50  Default_Company         NaN         3       2023-01-13   \n",
            "52                53  Default_Company         NaN        17       2021-10-24   \n",
            "83                84  Default_Company         NaN        18       2023-04-22   \n",
            "...              ...              ...         ...       ...              ...   \n",
            "9961            9962  Default_Company         NaN         9       2022-05-07   \n",
            "9963            9964  Default_Company         NaN        15       2023-06-20   \n",
            "9965            9966  Default_Company         NaN         2       2022-11-13   \n",
            "9972            9973  Default_Company         NaN        11       2021-04-20   \n",
            "9998            9999  Default_Company         NaN        19       2021-04-15   \n",
            "\n",
            "      Product_Price  Total_Cost  \n",
            "6         133548.75   1960000.0  \n",
            "41         94403.78   1808800.0  \n",
            "49         86830.79    380800.0  \n",
            "52        131297.78   1915200.0  \n",
            "83        152629.41   2856000.0  \n",
            "...             ...         ...  \n",
            "9961      131297.78   1344000.0  \n",
            "9963      191980.68   3136000.0  \n",
            "9965       80195.99    168000.0  \n",
            "9972      120952.88    386400.0  \n",
            "9998       81786.12   1680000.0  \n",
            "\n",
            "[1000 rows x 7 columns]\n"
          ]
        }
      ]
    },
    {
      "cell_type": "code",
      "source": [
        "# Create a mapping of Company_ID to Product_ID\n",
        "company_to_product_map = transactions_data.dropna(subset=['Product_ID']).groupby('Company_ID')['Product_ID'].first()\n",
        "\n",
        "# Fill missing Product_ID values based on Company_ID\n",
        "transactions_data['Product_ID'] = transactions_data['Product_ID'].fillna(transactions_data['Company_ID'].map(company_to_product_map))\n",
        "\n",
        "# Verify the filling process\n",
        "print(transactions_data['Product_ID'].isnull().sum())  # Should be 0 if all missing Product_IDs are filled\n",
        "\n",
        "# Assign a default value to rows still missing Product_ID\n",
        "transactions_data['Product_ID'] = transactions_data['Product_ID'].fillna('Default_Product')\n",
        "\n",
        "# Verify final missing values\n",
        "print(transactions_data['Product_ID'].isnull().sum())  # Should be 0 if all missing values are filled"
      ],
      "metadata": {
        "id": "45bbB_G4zERx",
        "outputId": "9ccb25a3-ad9e-489a-d976-0e6c649d391f",
        "colab": {
          "base_uri": "https://localhost:8080/"
        }
      },
      "execution_count": 121,
      "outputs": [
        {
          "output_type": "stream",
          "name": "stdout",
          "text": [
            "1000\n",
            "0\n"
          ]
        }
      ]
    },
    {
      "cell_type": "code",
      "source": [
        "# Investigate remaining missing rows\n",
        "remaining_missing = transactions_data[transactions_data['Company_ID'].isnull()]\n",
        "print(\"Remaining rows with missing Company_ID:\\n\", remaining_missing)"
      ],
      "metadata": {
        "colab": {
          "base_uri": "https://localhost:8080/"
        },
        "id": "C2c4M3v9KiLg",
        "outputId": "837c6911-d653-42a2-9924-8e311f218810"
      },
      "execution_count": 122,
      "outputs": [
        {
          "output_type": "stream",
          "name": "stdout",
          "text": [
            "Remaining rows with missing Company_ID:\n",
            " Empty DataFrame\n",
            "Columns: [Transaction_ID, Company_ID, Product_ID, Quantity, Transaction_Date, Product_Price, Total_Cost]\n",
            "Index: []\n"
          ]
        }
      ]
    },
    {
      "cell_type": "code",
      "source": [
        "# Recalculate Total_Cost for missing values\n",
        "transactions_data['Total_Cost'] = transactions_data.apply(\n",
        "    lambda row: row['Quantity'] * row['Product_Price'] if pd.isnull(row['Total_Cost']) else row['Total_Cost'],\n",
        "    axis=1\n",
        ")\n",
        "# Recheck\n",
        "print(transactions_data.isnull().sum())"
      ],
      "metadata": {
        "colab": {
          "base_uri": "https://localhost:8080/"
        },
        "id": "OylfQlcPLObN",
        "outputId": "d7c6b34f-e548-49de-93d7-fafcbcc0367f"
      },
      "execution_count": 126,
      "outputs": [
        {
          "output_type": "stream",
          "name": "stdout",
          "text": [
            "Transaction_ID      0\n",
            "Company_ID          0\n",
            "Product_ID          0\n",
            "Quantity            0\n",
            "Transaction_Date    0\n",
            "Product_Price       0\n",
            "Total_Cost          0\n",
            "dtype: int64\n"
          ]
        }
      ]
    },
    {
      "cell_type": "code",
      "source": [
        "# Save the Cleaned Dataset\n",
        "transactions_data.to_csv('/content/drive/MyDrive/cleaned_transactions_data.csv', index=False)"
      ],
      "metadata": {
        "id": "VBcIO7FcRY8r"
      },
      "execution_count": 134,
      "outputs": []
    },
    {
      "cell_type": "code",
      "source": [
        "# Preprocessing Products Data\n",
        "# Basic information about the dataset\n",
        "print(products_data.info())\n",
        "print(products_data.head())"
      ],
      "metadata": {
        "colab": {
          "base_uri": "https://localhost:8080/"
        },
        "id": "fGm5fwwnTIPJ",
        "outputId": "1af647f9-7744-408f-f52e-7fb8099ef76f"
      },
      "execution_count": 142,
      "outputs": [
        {
          "output_type": "stream",
          "name": "stdout",
          "text": [
            "<class 'pandas.core.frame.DataFrame'>\n",
            "RangeIndex: 20 entries, 0 to 19\n",
            "Data columns (total 3 columns):\n",
            " #   Column         Non-Null Count  Dtype  \n",
            "---  ------         --------------  -----  \n",
            " 0   Product_ID     20 non-null     int64  \n",
            " 1   Product_Name   20 non-null     object \n",
            " 2   Product_Price  20 non-null     float64\n",
            "dtypes: float64(1), int64(1), object(1)\n",
            "memory usage: 612.0+ bytes\n",
            "None\n",
            "   Product_ID            Product_Name  Product_Price\n",
            "0           1      FinPredictor Suite       140000.0\n",
            "1           2  MarketMinder Analytics       168000.0\n",
            "2           3    TrendWise Forecaster       100800.0\n",
            "3           4  CustomerScope Insights       123200.0\n",
            "4           5     SalesSync Optimizer        84000.0\n"
          ]
        }
      ]
    },
    {
      "cell_type": "code",
      "source": [
        "# Handle Missing Product_ID\n",
        "max_product_id = products_data['Product_ID'].max()\n",
        "products_data.loc[products_data['Product_ID'].isnull(), 'Product_ID'] = range(\n",
        "    int(max_product_id) + 1,\n",
        "    int(max_product_id) + 1 + products_data['Product_ID'].isnull().sum()\n",
        ")\n",
        "products_data['Product_ID'] = products_data['Product_ID'].astype(int)\n",
        "\n",
        "# Recheck\n",
        "print(products_data['Product_ID'].isnull().sum())"
      ],
      "metadata": {
        "colab": {
          "base_uri": "https://localhost:8080/"
        },
        "id": "lYdvf3SBUZwS",
        "outputId": "738b42f6-6360-438c-ce08-4166a5798fd1"
      },
      "execution_count": 136,
      "outputs": [
        {
          "output_type": "stream",
          "name": "stdout",
          "text": [
            "0\n"
          ]
        }
      ]
    },
    {
      "cell_type": "code",
      "source": [
        "# Clean Product_Price Column\n",
        "# Remove non-numeric characters and convert to float\n",
        "products_data['Product_Price'] = products_data['Product_Price'].replace('[^\\d.]', '', regex=True).astype(float)"
      ],
      "metadata": {
        "id": "1Rs6HMDGUag2"
      },
      "execution_count": 137,
      "outputs": []
    },
    {
      "cell_type": "code",
      "source": [
        "# Verify and Handle Missing or Incorrect Prices\n",
        "# Check for missing prices\n",
        "print(\"Missing Product Prices:\", products_data['Product_Price'].isnull().sum())"
      ],
      "metadata": {
        "colab": {
          "base_uri": "https://localhost:8080/"
        },
        "id": "9185knS0abeT",
        "outputId": "868d49fa-1b6a-432d-9a71-95fde586850b"
      },
      "execution_count": 138,
      "outputs": [
        {
          "output_type": "stream",
          "name": "stdout",
          "text": [
            "Missing Product Prices: 0\n"
          ]
        }
      ]
    },
    {
      "cell_type": "code",
      "source": [
        "# Check for duplicates\n",
        "duplicates = products_data[products_data.duplicated(subset=['Product_ID', 'Product_Name', 'Product_Price'], keep=False)]\n",
        "print(\"Duplicate rows:\\n\", duplicates)"
      ],
      "metadata": {
        "colab": {
          "base_uri": "https://localhost:8080/"
        },
        "id": "5EoOhFM2a3iY",
        "outputId": "ebaf88fe-a555-4684-b978-39ff5a331561"
      },
      "execution_count": 139,
      "outputs": [
        {
          "output_type": "stream",
          "name": "stdout",
          "text": [
            "Duplicate rows:\n",
            " Empty DataFrame\n",
            "Columns: [Product_ID, Product_Name, Product_Price]\n",
            "Index: []\n"
          ]
        }
      ]
    },
    {
      "cell_type": "code",
      "source": [
        "# Data validation\n",
        "unmatched_products = transactions_data[~transactions_data['Product_ID'].isin(products_data['Product_ID'])]\n",
        "print(\"Unmatched Product IDs:\\n\", unmatched_products)"
      ],
      "metadata": {
        "colab": {
          "base_uri": "https://localhost:8080/"
        },
        "id": "cByx7hYSbAHC",
        "outputId": "9476a639-008e-4563-e32a-9d50b5cc0fb3"
      },
      "execution_count": 140,
      "outputs": [
        {
          "output_type": "stream",
          "name": "stdout",
          "text": [
            "Unmatched Product IDs:\n",
            "       Transaction_ID       Company_ID       Product_ID  Quantity  \\\n",
            "6                  7  Default_Company  Default_Product        14   \n",
            "10                11              6.0             16.0         6   \n",
            "30                31              6.0             16.0        20   \n",
            "33                34             92.0              8.0        11   \n",
            "36                37             92.0              8.0        17   \n",
            "...              ...              ...              ...       ...   \n",
            "9972            9973  Default_Company  Default_Product        11   \n",
            "9978            9979             92.0              8.0        14   \n",
            "9985            9986             92.0              8.0        13   \n",
            "9998            9999  Default_Company  Default_Product        19   \n",
            "9999           10999              6.0             16.0        14   \n",
            "\n",
            "     Transaction_Date  Product_Price  Total_Cost  \n",
            "6          2023-11-01      133548.75  1960000.00  \n",
            "10         2024-12-01       98263.85   532000.00  \n",
            "30         2023-12-30      109347.02  2021600.00  \n",
            "33         2024-02-27      141578.71  1814400.00  \n",
            "36         2023-03-16      139881.22  2377980.74  \n",
            "...               ...            ...         ...  \n",
            "9972       2021-04-20      120952.88   386400.00  \n",
            "9978       2022-05-14      131297.78  2116800.00  \n",
            "9985       2023-10-24      144652.47  2116800.00  \n",
            "9998       2021-04-15       81786.12  1680000.00  \n",
            "9999       2023-10-29      115708.40  1489600.00  \n",
            "\n",
            "[1894 rows x 7 columns]\n"
          ]
        }
      ]
    },
    {
      "cell_type": "code",
      "source": [
        "# Identify Unique Unmatched Product_IDs:\n",
        "unmatched_ids = unmatched_products['Product_ID'].unique()\n",
        "print(\"Unmatched Product IDs:\", unmatched_ids)"
      ],
      "metadata": {
        "colab": {
          "base_uri": "https://localhost:8080/"
        },
        "id": "QzcGj1Zib7KU",
        "outputId": "54f99514-8c39-4316-8d3a-20a7c5ce1cf0"
      },
      "execution_count": 141,
      "outputs": [
        {
          "output_type": "stream",
          "name": "stdout",
          "text": [
            "Unmatched Product IDs: ['Default_Product' 16.0 8.0]\n"
          ]
        }
      ]
    },
    {
      "cell_type": "code",
      "source": [
        "# Investigate\n",
        "# Create placeholder data for unmatched Product_IDs\n",
        "unmatched_ids = unmatched_products['Product_ID'].unique()\n",
        "\n",
        "# Create a list to hold the placeholder rows\n",
        "placeholder_rows = []\n",
        "\n",
        "for prod_id in unmatched_ids:\n",
        "    placeholder_rows.append({\n",
        "        'Product_ID': prod_id,\n",
        "        'Product_Name': f'Unknown_{prod_id}',\n",
        "        'Product_Price': None  # Or assign a default price if necessary\n",
        "    })\n",
        "\n",
        "# Convert placeholder rows into a DataFrame\n",
        "placeholder_df = pd.DataFrame(placeholder_rows)\n",
        "\n",
        "# Concatenate the placeholder rows to the original products data\n",
        "products_data = pd.concat([products_data, placeholder_df], ignore_index=True)\n",
        "\n",
        "# Re-check the unmatched products\n",
        "unmatched_products = transactions_data[~transactions_data['Product_ID'].isin(products_data['Product_ID'])]\n",
        "print(\"Remaining unmatched Product IDs:\", unmatched_products)"
      ],
      "metadata": {
        "colab": {
          "base_uri": "https://localhost:8080/"
        },
        "id": "1zbCYJsbfJEU",
        "outputId": "45b5845a-7794-4bd5-cdf7-52573aa6d2f6"
      },
      "execution_count": null,
      "outputs": [
        {
          "output_type": "stream",
          "name": "stdout",
          "text": [
            "Remaining unmatched Product IDs: Empty DataFrame\n",
            "Columns: [Transaction_ID, Company_ID, Product_ID, Quantity, Transaction_Date, Product_Price, Total_Cost]\n",
            "Index: []\n"
          ]
        },
        {
          "output_type": "stream",
          "name": "stderr",
          "text": [
            "<ipython-input-439-6a801b932c8a>:19: FutureWarning: The behavior of DataFrame concatenation with empty or all-NA entries is deprecated. In a future version, this will no longer exclude empty or all-NA columns when determining the result dtypes. To retain the old behavior, exclude the relevant entries before the concat operation.\n",
            "  products_data = pd.concat([products_data, placeholder_df], ignore_index=True)\n"
          ]
        }
      ]
    },
    {
      "cell_type": "code",
      "source": [
        "# Double check unmatched\n",
        "print(\"Unmatched Products DataFrame:\")\n",
        "print(unmatched_products)"
      ],
      "metadata": {
        "colab": {
          "base_uri": "https://localhost:8080/"
        },
        "id": "bR_BnE9sfbxf",
        "outputId": "aa24aa55-fcff-46ff-82b9-66ae13feb555"
      },
      "execution_count": null,
      "outputs": [
        {
          "output_type": "stream",
          "name": "stdout",
          "text": [
            "Unmatched Products DataFrame:\n",
            "Empty DataFrame\n",
            "Columns: [Transaction_ID, Company_ID, Product_ID, Quantity, Transaction_Date, Product_Price, Total_Cost]\n",
            "Index: []\n"
          ]
        }
      ]
    },
    {
      "cell_type": "code",
      "source": [
        "# Merge Products Data and Transaction Data on Product ID\n",
        "merged_data = pd.merge(transactions_data, products_data, on='Product_ID', how='left')\n",
        "print(merged_data.head())"
      ],
      "metadata": {
        "colab": {
          "base_uri": "https://localhost:8080/"
        },
        "id": "_-RSaqgQgbAJ",
        "outputId": "75426562-ddc5-465e-b597-28859568c01c"
      },
      "execution_count": null,
      "outputs": [
        {
          "output_type": "stream",
          "name": "stdout",
          "text": [
            "   Transaction_ID  Company_ID  Product_ID  Quantity Transaction_Date  \\\n",
            "0               1        88.0           6      11.0       2024-03-26   \n",
            "1               2        29.0          19      16.0       2024-07-09   \n",
            "2           10000        28.0          18       6.0       2024-04-13   \n",
            "3               4        85.0          12      12.0       2023-06-09   \n",
            "4               5        47.0           3       8.0       2021-06-07   \n",
            "\n",
            "   Product_Price_x  Total_Cost            Product_Name  Product_Price_y  \n",
            "0    194379.147964   1075200.0    RevenueVue Dashboard         179200.0  \n",
            "1     97930.993380   1428000.0        EcoNomix Modeler          95200.0  \n",
            "2    126095.547778    940800.0  DashSync Analytics Hub         134400.0  \n",
            "3    131297.783516   1008000.0        BudgetMaster Pro          84000.0  \n",
            "4     99575.609634    705600.0    TrendWise Forecaster         100800.0  \n"
          ]
        }
      ]
    },
    {
      "cell_type": "code",
      "source": [
        "# Merge datasets on 'Product_ID'\n",
        "merged_data = pd.merge(transactions_data, products_data, on='Product_ID', how='left')\n",
        "\n",
        "# Drop the unwanted 'Product_Price_x' column from transactions_data\n",
        "merged_data = merged_data.drop(columns=['Product_Price_x'])\n",
        "\n",
        "# Rename 'Product_Price_y' to 'Product_Price'\n",
        "merged_data = merged_data.rename(columns={'Product_Price_y': 'Product_Price'})\n",
        "\n",
        "# Display the cleaned merged data\n",
        "print(merged_data.head())"
      ],
      "metadata": {
        "colab": {
          "base_uri": "https://localhost:8080/"
        },
        "id": "YC9rd6Mgibu7",
        "outputId": "4929f395-f37c-49f8-f7fe-7113eabfcdf9"
      },
      "execution_count": null,
      "outputs": [
        {
          "output_type": "stream",
          "name": "stdout",
          "text": [
            "   Transaction_ID  Company_ID  Product_ID  Quantity Transaction_Date  \\\n",
            "0               1        88.0           6      11.0       2024-03-26   \n",
            "1               2        29.0          19      16.0       2024-07-09   \n",
            "2           10000        28.0          18       6.0       2024-04-13   \n",
            "3               4        85.0          12      12.0       2023-06-09   \n",
            "4               5        47.0           3       8.0       2021-06-07   \n",
            "\n",
            "   Total_Cost            Product_Name  Product_Price  \n",
            "0   1075200.0    RevenueVue Dashboard       179200.0  \n",
            "1   1428000.0        EcoNomix Modeler        95200.0  \n",
            "2    940800.0  DashSync Analytics Hub       134400.0  \n",
            "3   1008000.0        BudgetMaster Pro        84000.0  \n",
            "4    705600.0    TrendWise Forecaster       100800.0  \n"
          ]
        }
      ]
    },
    {
      "cell_type": "code",
      "source": [
        "# Cleanup Mismatched Product ID\n",
        "# Check for unmatched product ids in merged_data\n",
        "unmatched_products = merged_data[merged_data['Product_Price'].isnull()]\n",
        "print(\"Unmatched Products DataFrame:\")\n",
        "print(unmatched_products)"
      ],
      "metadata": {
        "colab": {
          "base_uri": "https://localhost:8080/"
        },
        "id": "YFmBch2pjFIM",
        "outputId": "83b9b931-992b-438c-877e-73075fb6475e"
      },
      "execution_count": null,
      "outputs": [
        {
          "output_type": "stream",
          "name": "stdout",
          "text": [
            "Unmatched Products DataFrame:\n",
            "      Transaction_ID  Company_ID  Product_ID  Quantity Transaction_Date  \\\n",
            "10                11         6.0          16       6.0       2024-12-01   \n",
            "30                31        16.0          16      20.0       2023-12-30   \n",
            "33                34        92.0           8      11.0       2024-02-27   \n",
            "36                37        92.0           8      17.0       2023-03-16   \n",
            "69                70        71.0          16      18.0       2023-04-21   \n",
            "...              ...         ...         ...       ...              ...   \n",
            "9936            9937        14.0           8      17.0       2021-03-27   \n",
            "9946            9947         9.0           8      11.0       2022-10-23   \n",
            "9978            9979        37.0           8      14.0       2022-05-14   \n",
            "9985            9986        14.0           8      13.0       2023-10-24   \n",
            "9999           10999        77.0          16      14.0       2023-10-29   \n",
            "\n",
            "        Total_Cost Product_Name  Product_Price  \n",
            "10    5.320000e+05   Unknown_16            NaN  \n",
            "30    2.021600e+06   Unknown_16            NaN  \n",
            "33    1.814400e+06    Unknown_8            NaN  \n",
            "36    2.377981e+06    Unknown_8            NaN  \n",
            "69    2.021600e+06   Unknown_16            NaN  \n",
            "...            ...          ...            ...  \n",
            "9936  2.419200e+06    Unknown_8            NaN  \n",
            "9946  7.560000e+05    Unknown_8            NaN  \n",
            "9978  2.116800e+06    Unknown_8            NaN  \n",
            "9985  2.116800e+06    Unknown_8            NaN  \n",
            "9999  1.489600e+06   Unknown_16            NaN  \n",
            "\n",
            "[1086 rows x 8 columns]\n"
          ]
        }
      ]
    }
  ]
}