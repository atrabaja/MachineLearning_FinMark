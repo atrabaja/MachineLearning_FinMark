{
  "nbformat": 4,
  "nbformat_minor": 0,
  "metadata": {
    "colab": {
      "provenance": [],
      "authorship_tag": "ABX9TyN5ePK2ELGNMLqi7CwiqwDH",
      "include_colab_link": true
    },
    "kernelspec": {
      "name": "python3",
      "display_name": "Python 3"
    },
    "language_info": {
      "name": "python"
    }
  },
  "cells": [
    {
      "cell_type": "markdown",
      "metadata": {
        "id": "view-in-github",
        "colab_type": "text"
      },
      "source": [
        "<a href=\"https://colab.research.google.com/github/atrabaja/MachineLearning_FinMark/blob/main/MS1.ipynb\" target=\"_parent\"><img src=\"https://colab.research.google.com/assets/colab-badge.svg\" alt=\"Open In Colab\"/></a>"
      ]
    },
    {
      "cell_type": "code",
      "source": [
        "from google.colab import drive\n",
        "drive.mount('/content/drive')"
      ],
      "metadata": {
        "colab": {
          "base_uri": "https://localhost:8080/"
        },
        "id": "G1AtT4ET4utK",
        "outputId": "3c540752-6d16-4276-8f63-d8e75a50301c"
      },
      "execution_count": 136,
      "outputs": [
        {
          "output_type": "stream",
          "name": "stdout",
          "text": [
            "Drive already mounted at /content/drive; to attempt to forcibly remount, call drive.mount(\"/content/drive\", force_remount=True).\n"
          ]
        }
      ]
    },
    {
      "cell_type": "code",
      "source": [
        "import os\n",
        "data_path = '/content/drive/MyDrive'"
      ],
      "metadata": {
        "id": "xk22DoupZjOr"
      },
      "execution_count": 137,
      "outputs": []
    },
    {
      "cell_type": "code",
      "source": [
        "# Import libraries\n",
        "import pandas as pd\n",
        "import numpy as np\n",
        "from sklearn.model_selection import train_test_split\n",
        "from sklearn.ensemble import RandomForestClassifier\n",
        "from sklearn.metrics import classification_report, accuracy_score"
      ],
      "metadata": {
        "id": "zX6JhoEAvcDx"
      },
      "execution_count": 138,
      "outputs": []
    },
    {
      "cell_type": "code",
      "source": [
        "# Define file paths\n",
        "customers_file_path = '/content/drive/My Drive/customers_data.csv'\n",
        "products_file_path = '/content/drive/My Drive/products_data.csv'\n",
        "transactions_file_path = '/content/drive/My Drive/transactions_data.csv'"
      ],
      "metadata": {
        "id": "Td2CG2sY0ydG"
      },
      "execution_count": 139,
      "outputs": []
    },
    {
      "cell_type": "code",
      "source": [
        "# Load datasets\n",
        "customers_data = pd.read_csv(customers_file_path)\n",
        "products_data = pd.read_csv(products_file_path)\n",
        "transactions_data = pd.read_csv(transactions_file_path)\n",
        "\n",
        "# Display the first few rows of each dataset\n",
        "print(customers_data.head())\n",
        "print(products_data.head())\n",
        "print(transactions_data.head())"
      ],
      "metadata": {
        "colab": {
          "base_uri": "https://localhost:8080/"
        },
        "id": "sTXgJ6-L_c2z",
        "outputId": "e97e6027-9426-4717-8f64-d08bd90edfe8"
      },
      "execution_count": 140,
      "outputs": [
        {
          "output_type": "stream",
          "name": "stdout",
          "text": [
            "   Company_ID          Company_Name  Company_Profit  \\\n",
            "0         1.0  Tech  Enterprises  1         80701.0   \n",
            "1         2.0   Global  Partners  2         80511.0   \n",
            "2         3.0  Quantum Associates 3        110664.0   \n",
            "3         4.0       Prime Network 4             NaN   \n",
            "4         5.0    Elite  Ventures  5         69427.0   \n",
            "\n",
            "                                             Address  \n",
            "0             EDSA, Barangay 606, Pasig, Philippines  \n",
            "1  Commonwealth Ave, Barangay 789, Taguig, Philip...  \n",
            "2       Roxas Blvd, Barangay 505, Pasig, Philippines  \n",
            "3  Alabang-Zapote Rd, Barangay 202, Taguig, Phili...  \n",
            "4    Ayala Avenue, Barangay 101, Makati, Philippines  \n",
            "   Product_ID            Product_Name Product_Price\n",
            "0         1.0      FinPredictor Suite      ?140,000\n",
            "1         2.0  MarketMinder Analytics      ?168,000\n",
            "2         3.0    TrendWise Forecaster      ?100,800\n",
            "3         4.0  CustomerScope Insights      ?123,200\n",
            "4         5.0     SalesSync Optimizer       ?84,000\n",
            "   Unnamed: 0  Transaction_ID  Company_ID  Product_ID  Quantity  \\\n",
            "0         0.0             1.0        88.0         6.0       NaN   \n",
            "1         1.0             2.0        29.0        19.0      16.0   \n",
            "2         2.0             NaN        28.0        18.0       6.0   \n",
            "3         3.0             4.0        85.0        12.0      12.0   \n",
            "4         4.0             5.0        47.0         3.0       8.0   \n",
            "\n",
            "  Transaction_Date  Product_Price  Total_Cost  \n",
            "0       2024/03/26  194379.147964   1075200.0  \n",
            "1    July 09, 2024   97930.993380   1428000.0  \n",
            "2       04/13/2024  126095.547778    940800.0  \n",
            "3       09-06-2023            NaN   1008000.0  \n",
            "4       07/06/2021   99575.609634    705600.0  \n"
          ]
        }
      ]
    },
    {
      "cell_type": "code",
      "source": [
        "# Preprocessing Customers Data\n",
        "# Identify rows with missing Company_ID\n",
        "missing_ids = customers_data[customers_data['Company_ID'].isnull()]\n",
        "\n",
        "# Map existing Company_IDs to rows with missing IDs based on matching columns\n",
        "customers_data['Company_ID'] = customers_data['Company_ID'].fillna(\n",
        "    customers_data.merge(\n",
        "        customers_data[['Company_ID', 'Company_Name', 'Address', 'Company_Profit']].dropna(subset=['Company_ID']),\n",
        "        on=['Company_Name', 'Address', 'Company_Profit'],\n",
        "        how='left'\n",
        "    )['Company_ID_y']\n",
        ")"
      ],
      "metadata": {
        "id": "GO52nJqo7nHG"
      },
      "execution_count": 141,
      "outputs": []
    },
    {
      "cell_type": "code",
      "source": [
        "# Find the maximum existing Company_ID\n",
        "max_id = customers_data['Company_ID'].max()\n",
        "\n",
        "# Assign unique IDs to remaining missing rows\n",
        "customers_data.loc[customers_data['Company_ID'].isnull(), 'Company_ID'] = range(\n",
        "    int(max_id) + 1, int(max_id) + 1 + customers_data['Company_ID'].isnull().sum()\n",
        ")\n",
        "\n",
        "# Convert Company_ID to integer type\n",
        "customers_data['Company_ID'] = customers_data['Company_ID'].astype(int)"
      ],
      "metadata": {
        "id": "q9Ik_Esw7pou"
      },
      "execution_count": 142,
      "outputs": []
    },
    {
      "cell_type": "code",
      "source": [
        "# Check for duplicates based on Company_Name, Address, and Company_Profit\n",
        "duplicates = customers_data[customers_data.duplicated(subset=['Company_Name', 'Address', 'Company_Profit'], keep=False)]\n",
        "print(duplicates)\n",
        "\n",
        "# Drop duplicates if necessary\n",
        "customers_data = customers_data.drop_duplicates(subset=['Company_Name', 'Address', 'Company_Profit'], keep='first')"
      ],
      "metadata": {
        "colab": {
          "base_uri": "https://localhost:8080/"
        },
        "id": "eC7Jjy3f7wy-",
        "outputId": "37e3134e-7644-4fd9-dfe4-0da39f9ae4af"
      },
      "execution_count": 143,
      "outputs": [
        {
          "output_type": "stream",
          "name": "stdout",
          "text": [
            "Empty DataFrame\n",
            "Columns: [Company_ID, Company_Name, Company_Profit, Address]\n",
            "Index: []\n"
          ]
        }
      ]
    },
    {
      "cell_type": "code",
      "source": [
        "# Verify there are no missing values or duplicates\n",
        "print(customers_data.isnull().sum())\n",
        "print(customers_data.duplicated().sum())\n",
        "\n",
        "# Display dataset summary\n",
        "print(customers_data.info())\n",
        "print(customers_data.head())"
      ],
      "metadata": {
        "colab": {
          "base_uri": "https://localhost:8080/"
        },
        "id": "A1yeM7Ma74-L",
        "outputId": "dd693368-24df-4998-9e60-cc6bf608be8b"
      },
      "execution_count": 144,
      "outputs": [
        {
          "output_type": "stream",
          "name": "stdout",
          "text": [
            "Company_ID         0\n",
            "Company_Name       0\n",
            "Company_Profit    12\n",
            "Address            0\n",
            "dtype: int64\n",
            "0\n",
            "<class 'pandas.core.frame.DataFrame'>\n",
            "RangeIndex: 100 entries, 0 to 99\n",
            "Data columns (total 4 columns):\n",
            " #   Column          Non-Null Count  Dtype  \n",
            "---  ------          --------------  -----  \n",
            " 0   Company_ID      100 non-null    int64  \n",
            " 1   Company_Name    100 non-null    object \n",
            " 2   Company_Profit  88 non-null     float64\n",
            " 3   Address         100 non-null    object \n",
            "dtypes: float64(1), int64(1), object(2)\n",
            "memory usage: 3.3+ KB\n",
            "None\n",
            "   Company_ID          Company_Name  Company_Profit  \\\n",
            "0           1  Tech  Enterprises  1         80701.0   \n",
            "1           2   Global  Partners  2         80511.0   \n",
            "2           3  Quantum Associates 3        110664.0   \n",
            "3           4       Prime Network 4             NaN   \n",
            "4           5    Elite  Ventures  5         69427.0   \n",
            "\n",
            "                                             Address  \n",
            "0             EDSA, Barangay 606, Pasig, Philippines  \n",
            "1  Commonwealth Ave, Barangay 789, Taguig, Philip...  \n",
            "2       Roxas Blvd, Barangay 505, Pasig, Philippines  \n",
            "3  Alabang-Zapote Rd, Barangay 202, Taguig, Phili...  \n",
            "4    Ayala Avenue, Barangay 101, Makati, Philippines  \n"
          ]
        }
      ]
    },
    {
      "cell_type": "code",
      "source": [
        "# Remove numbers from the Company_Name column\n",
        "customers_data['Company_Name'] = customers_data['Company_Name'].str.replace(r'\\d+', '', regex=True).str.strip()\n",
        "\n",
        "# Verify the changes\n",
        "print(customers_data['Company_Name'].head())"
      ],
      "metadata": {
        "colab": {
          "base_uri": "https://localhost:8080/"
        },
        "id": "67c8Blkc8Xqm",
        "outputId": "272d4c4b-5a5d-4b6d-c88f-b8323bf50985"
      },
      "execution_count": 145,
      "outputs": [
        {
          "output_type": "stream",
          "name": "stdout",
          "text": [
            "0     Tech  Enterprises\n",
            "1      Global  Partners\n",
            "2    Quantum Associates\n",
            "3         Prime Network\n",
            "4       Elite  Ventures\n",
            "Name: Company_Name, dtype: object\n"
          ]
        }
      ]
    },
    {
      "cell_type": "code",
      "source": [
        "# Fill missing Company_Profit based on Address group median\n",
        "customers_data['Company_Profit'] = customers_data.groupby('Address')['Company_Profit'].transform(\n",
        "    lambda x: x.fillna(x.median())\n",
        ")"
      ],
      "metadata": {
        "id": "rNRqxzuz8X6e"
      },
      "execution_count": 146,
      "outputs": []
    },
    {
      "cell_type": "code",
      "source": [
        "# Verify no missing values remain\n",
        "print(customers_data.isnull().sum())\n",
        "\n",
        "# Display updated dataset\n",
        "print(customers_data.head())"
      ],
      "metadata": {
        "colab": {
          "base_uri": "https://localhost:8080/"
        },
        "id": "qfncHAPi-RAg",
        "outputId": "cf834f04-0024-487b-8b54-d505576c6008"
      },
      "execution_count": 147,
      "outputs": [
        {
          "output_type": "stream",
          "name": "stdout",
          "text": [
            "Company_ID         0\n",
            "Company_Name       0\n",
            "Company_Profit    12\n",
            "Address            0\n",
            "dtype: int64\n",
            "   Company_ID        Company_Name  Company_Profit  \\\n",
            "0           1   Tech  Enterprises         80701.0   \n",
            "1           2    Global  Partners         80511.0   \n",
            "2           3  Quantum Associates        110664.0   \n",
            "3           4       Prime Network             NaN   \n",
            "4           5     Elite  Ventures         69427.0   \n",
            "\n",
            "                                             Address  \n",
            "0             EDSA, Barangay 606, Pasig, Philippines  \n",
            "1  Commonwealth Ave, Barangay 789, Taguig, Philip...  \n",
            "2       Roxas Blvd, Barangay 505, Pasig, Philippines  \n",
            "3  Alabang-Zapote Rd, Barangay 202, Taguig, Phili...  \n",
            "4    Ayala Avenue, Barangay 101, Makati, Philippines  \n"
          ]
        }
      ]
    },
    {
      "cell_type": "code",
      "source": [
        "# Cleaned customer data\n",
        "customers_data.to_csv('/content/drive/MyDrive/cleaned_customers_data.csv', index=False)"
      ],
      "metadata": {
        "id": "ah0KEdDD_QHe"
      },
      "execution_count": 148,
      "outputs": []
    },
    {
      "cell_type": "code",
      "source": [
        "# Preprocessing Transactions Data\n",
        "# Check basic info\n",
        "print(transactions_data.info())\n",
        "print(transactions_data.head())\n",
        "\n",
        "# Check for missing values\n",
        "print(transactions_data.isnull().sum())"
      ],
      "metadata": {
        "colab": {
          "base_uri": "https://localhost:8080/"
        },
        "id": "7sKuq6Z2_acS",
        "outputId": "f3d044fd-3e14-4d60-d27f-11233d491b40"
      },
      "execution_count": 149,
      "outputs": [
        {
          "output_type": "stream",
          "name": "stdout",
          "text": [
            "<class 'pandas.core.frame.DataFrame'>\n",
            "RangeIndex: 10000 entries, 0 to 9999\n",
            "Data columns (total 8 columns):\n",
            " #   Column            Non-Null Count  Dtype  \n",
            "---  ------            --------------  -----  \n",
            " 0   Unnamed: 0        9000 non-null   float64\n",
            " 1   Transaction_ID    9000 non-null   float64\n",
            " 2   Company_ID        9000 non-null   float64\n",
            " 3   Product_ID        9000 non-null   float64\n",
            " 4   Quantity          9000 non-null   float64\n",
            " 5   Transaction_Date  10000 non-null  object \n",
            " 6   Product_Price     9000 non-null   float64\n",
            " 7   Total_Cost        9000 non-null   float64\n",
            "dtypes: float64(7), object(1)\n",
            "memory usage: 625.1+ KB\n",
            "None\n",
            "   Unnamed: 0  Transaction_ID  Company_ID  Product_ID  Quantity  \\\n",
            "0         0.0             1.0        88.0         6.0       NaN   \n",
            "1         1.0             2.0        29.0        19.0      16.0   \n",
            "2         2.0             NaN        28.0        18.0       6.0   \n",
            "3         3.0             4.0        85.0        12.0      12.0   \n",
            "4         4.0             5.0        47.0         3.0       8.0   \n",
            "\n",
            "  Transaction_Date  Product_Price  Total_Cost  \n",
            "0       2024/03/26  194379.147964   1075200.0  \n",
            "1    July 09, 2024   97930.993380   1428000.0  \n",
            "2       04/13/2024  126095.547778    940800.0  \n",
            "3       09-06-2023            NaN   1008000.0  \n",
            "4       07/06/2021   99575.609634    705600.0  \n",
            "Unnamed: 0          1000\n",
            "Transaction_ID      1000\n",
            "Company_ID          1000\n",
            "Product_ID          1000\n",
            "Quantity            1000\n",
            "Transaction_Date       0\n",
            "Product_Price       1000\n",
            "Total_Cost          1000\n",
            "dtype: int64\n"
          ]
        }
      ]
    },
    {
      "cell_type": "code",
      "source": [
        "# Handle Missing Values - Quality\n",
        "transactions_data['Quantity'] = transactions_data['Quantity'].fillna(transactions_data['Quantity'].median())"
      ],
      "metadata": {
        "id": "CKuiOxUC_bhT"
      },
      "execution_count": 150,
      "outputs": []
    },
    {
      "cell_type": "code",
      "source": [
        "# Handle Missing Values - Product Price\n",
        "transactions_data['Product_Price'] = transactions_data['Product_Price'].fillna(transactions_data['Product_Price'].median())"
      ],
      "metadata": {
        "id": "3mr9td5tBo1e"
      },
      "execution_count": 154,
      "outputs": []
    },
    {
      "cell_type": "code",
      "source": [
        "# Display unique formats in Transaction_Date\n",
        "print(\"Unique formats in Transaction_Date before conversion:\\n\", transactions_data['Transaction_Date'].unique())\n",
        "\n",
        "# Define a function to parse different date formats\n",
        "def parse_date(date_str):\n",
        "    # Attempt to parse several known formats\n",
        "    for fmt in ('%Y-%m-%d', '%d-%m-%Y', '%m-%d-%Y', '%Y/%m/%d', '%d/%m/%Y', '%m/%d/%Y', '%B %d, %Y', '%d %B %Y'):\n",
        "        try:\n",
        "            return pd.to_datetime(date_str, format=fmt)\n",
        "        except (ValueError, TypeError):\n",
        "            continue  # Try the next format if this one fails\n",
        "    return pd.NaT  # Return NaT if no formats worked\n",
        "\n",
        "# Apply the parsing function\n",
        "transactions_data['Transaction_Date'] = transactions_data['Transaction_Date'].apply(parse_date)\n",
        "\n",
        "# Check for NaT values after parsing\n",
        "nat_count = transactions_data['Transaction_Date'].isna().sum()\n",
        "print(\"NaT values in Transaction_Date column after conversion:\", nat_count)\n",
        "\n",
        "# Inspect problematic entries if there are any NaT values\n",
        "if nat_count > 0:\n",
        "    print(\"Remaining problematic date entries:\\n\", transactions_data[transactions_data['Transaction_Date'].isna()]['Transaction_Date'])\n",
        "\n",
        "# Confirm the data type of Transaction_Date after all conversions\n",
        "print(\"Data type of Transaction_Date after final conversion:\", transactions_data['Transaction_Date'].dtypes)"
      ],
      "metadata": {
        "colab": {
          "base_uri": "https://localhost:8080/"
        },
        "id": "HxINDX22CVBP",
        "outputId": "c0fb395b-1886-464f-e2ca-d5d43db27083"
      },
      "execution_count": 158,
      "outputs": [
        {
          "output_type": "stream",
          "name": "stdout",
          "text": [
            "Unique formats in Transaction_Date before conversion:\n",
            " <DatetimeArray>\n",
            "['2024-03-26 00:00:00', '2024-07-09 00:00:00', '2024-04-13 00:00:00',\n",
            " '2023-06-09 00:00:00', '2021-06-07 00:00:00', '2021-07-12 00:00:00',\n",
            " '2023-11-01 00:00:00', '2023-10-31 00:00:00', '2024-02-25 00:00:00',\n",
            " '2021-03-29 00:00:00',\n",
            " ...\n",
            " '2022-11-30 00:00:00', '2024-03-16 00:00:00', '2020-06-11 00:00:00',\n",
            " '2020-01-12 00:00:00', '2022-07-13 00:00:00', '2024-11-08 00:00:00',\n",
            " '2024-12-04 00:00:00', '2023-11-04 00:00:00', '2020-03-12 00:00:00',\n",
            " '2024-12-09 00:00:00']\n",
            "Length: 1490, dtype: datetime64[ns]\n",
            "NaT values in Transaction_Date column after conversion: 0\n",
            "Data type of Transaction_Date after final conversion: datetime64[ns]\n"
          ]
        }
      ]
    },
    {
      "cell_type": "code",
      "source": [
        "# Final check of the dataset\n",
        "print(transactions_data.info())\n",
        "print(transactions_data.head())"
      ],
      "metadata": {
        "colab": {
          "base_uri": "https://localhost:8080/"
        },
        "id": "N1XyqKJ7CVR-",
        "outputId": "44a10583-8dd5-49a2-b9e7-36f57a21d785"
      },
      "execution_count": 159,
      "outputs": [
        {
          "output_type": "stream",
          "name": "stdout",
          "text": [
            "<class 'pandas.core.frame.DataFrame'>\n",
            "RangeIndex: 10000 entries, 0 to 9999\n",
            "Data columns (total 8 columns):\n",
            " #   Column            Non-Null Count  Dtype         \n",
            "---  ------            --------------  -----         \n",
            " 0   Unnamed: 0        9000 non-null   float64       \n",
            " 1   Transaction_ID    9000 non-null   float64       \n",
            " 2   Company_ID        9000 non-null   float64       \n",
            " 3   Product_ID        9000 non-null   float64       \n",
            " 4   Quantity          10000 non-null  float64       \n",
            " 5   Transaction_Date  10000 non-null  datetime64[ns]\n",
            " 6   Product_Price     10000 non-null  float64       \n",
            " 7   Total_Cost        9000 non-null   float64       \n",
            "dtypes: datetime64[ns](1), float64(7)\n",
            "memory usage: 625.1 KB\n",
            "None\n",
            "   Unnamed: 0  Transaction_ID  Company_ID  Product_ID  Quantity  \\\n",
            "0         0.0             1.0        88.0         6.0      11.0   \n",
            "1         1.0             2.0        29.0        19.0      16.0   \n",
            "2         2.0             NaN        28.0        18.0       6.0   \n",
            "3         3.0             4.0        85.0        12.0      12.0   \n",
            "4         4.0             5.0        47.0         3.0       8.0   \n",
            "\n",
            "  Transaction_Date  Product_Price  Total_Cost  \n",
            "0       2024-03-26  194379.147964   1075200.0  \n",
            "1       2024-07-09   97930.993380   1428000.0  \n",
            "2       2024-04-13  126095.547778    940800.0  \n",
            "3       2023-06-09  131297.783516   1008000.0  \n",
            "4       2021-06-07   99575.609634    705600.0  \n"
          ]
        }
      ]
    },
    {
      "cell_type": "code",
      "source": [
        "# Verify Missing Values\n",
        "print(transactions_data.isnull().sum())"
      ],
      "metadata": {
        "colab": {
          "base_uri": "https://localhost:8080/"
        },
        "id": "c25Mlr4CDsbw",
        "outputId": "b469ae8b-42b4-48c5-fc99-22d61ed780e0"
      },
      "execution_count": 160,
      "outputs": [
        {
          "output_type": "stream",
          "name": "stdout",
          "text": [
            "Unnamed: 0          1000\n",
            "Transaction_ID      1000\n",
            "Company_ID          1000\n",
            "Product_ID          1000\n",
            "Quantity               0\n",
            "Transaction_Date       0\n",
            "Product_Price          0\n",
            "Total_Cost          1000\n",
            "dtype: int64\n"
          ]
        }
      ]
    },
    {
      "cell_type": "code",
      "source": [
        "# Dropped unnamed column\n",
        "transactions_data = transactions_data.drop(columns=['Unnamed: 0'])"
      ],
      "metadata": {
        "id": "-RMhtwbqDtH_"
      },
      "execution_count": 161,
      "outputs": []
    },
    {
      "cell_type": "code",
      "source": [
        "# Identify rows with missing Transaction_ID\n",
        "missing_transaction_ids = transactions_data[transactions_data['Transaction_ID'].isnull()]\n",
        "print(missing_transaction_ids)"
      ],
      "metadata": {
        "colab": {
          "base_uri": "https://localhost:8080/"
        },
        "id": "-NU4d97RFoAW",
        "outputId": "01bcc251-3957-4b46-ff3f-2870ef62f46e"
      },
      "execution_count": 162,
      "outputs": [
        {
          "output_type": "stream",
          "name": "stdout",
          "text": [
            "      Transaction_ID  Company_ID  Product_ID  Quantity Transaction_Date  \\\n",
            "2                NaN        28.0        18.0       6.0       2024-04-13   \n",
            "17               NaN        57.0        10.0       6.0       2022-07-10   \n",
            "21               NaN        25.0        18.0       2.0       2021-03-21   \n",
            "25               NaN        93.0         9.0      11.0       2021-09-21   \n",
            "55               NaN         NaN        11.0      16.0       2023-03-08   \n",
            "...              ...         ...         ...       ...              ...   \n",
            "9981             NaN         NaN         5.0      11.0       2022-03-29   \n",
            "9984             NaN        93.0        19.0      11.0       2021-03-25   \n",
            "9995             NaN         NaN        10.0      11.0       2022-06-05   \n",
            "9997             NaN        90.0         1.0      15.0       2022-07-19   \n",
            "9999             NaN        77.0        16.0      14.0       2023-10-29   \n",
            "\n",
            "      Product_Price  Total_Cost  \n",
            "2     126095.547778    940800.0  \n",
            "17    131297.783516    627200.0  \n",
            "21    123745.158042         NaN  \n",
            "25    131297.783516   1792000.0  \n",
            "55    169357.608317   2665600.0  \n",
            "...             ...         ...  \n",
            "9981  131297.783516    672000.0  \n",
            "9984   95504.301714    952000.0  \n",
            "9995  131297.783516    627200.0  \n",
            "9997  128137.094759   1960000.0  \n",
            "9999  115708.404715   1489600.0  \n",
            "\n",
            "[1000 rows x 7 columns]\n"
          ]
        }
      ]
    },
    {
      "cell_type": "code",
      "source": [
        "# Assign unique identifiers\n",
        "# Find the maximum existing Transaction_ID\n",
        "max_transaction_id = transactions_data['Transaction_ID'].max()\n",
        "\n",
        "# Assign unique IDs to missing Transaction_IDs\n",
        "transactions_data.loc[transactions_data['Transaction_ID'].isnull(), 'Transaction_ID'] = range(\n",
        "    int(max_transaction_id) + 1,\n",
        "    int(max_transaction_id) + 1 + transactions_data['Transaction_ID'].isnull().sum()\n",
        ")\n",
        "\n",
        "# Convert Transaction_ID to integer type (if necessary)\n",
        "transactions_data['Transaction_ID'] = transactions_data['Transaction_ID'].astype(int)\n",
        "\n",
        "# Verify updates\n",
        "print(transactions_data['Transaction_ID'].isnull().sum())"
      ],
      "metadata": {
        "colab": {
          "base_uri": "https://localhost:8080/"
        },
        "id": "g5CIvlhNFoSg",
        "outputId": "7c242864-5433-4e4a-ac62-c63cd50eb648"
      },
      "execution_count": 163,
      "outputs": [
        {
          "output_type": "stream",
          "name": "stdout",
          "text": [
            "0\n"
          ]
        }
      ]
    },
    {
      "cell_type": "code",
      "source": [
        "# Identify rows with missing Company ID\n",
        "missing_company_id = transactions_data[transactions_data['Company_ID'].isnull()]\n",
        "print(\"Rows with missing Company_ID:\\n\", missing_company_id)"
      ],
      "metadata": {
        "colab": {
          "base_uri": "https://localhost:8080/"
        },
        "id": "I2isTECbHuUv",
        "outputId": "19368242-00ff-4fa1-c465-d5ed65c6e1f5"
      },
      "execution_count": 165,
      "outputs": [
        {
          "output_type": "stream",
          "name": "stdout",
          "text": [
            "Rows with missing Company_ID:\n",
            "       Transaction_ID  Company_ID  Product_ID  Quantity Transaction_Date  \\\n",
            "6                  7         NaN         NaN      14.0       2023-11-01   \n",
            "11                12         NaN         1.0      17.0       2022-04-05   \n",
            "12                13         NaN        12.0      15.0       2023-02-27   \n",
            "26                27         NaN        14.0      18.0       2023-03-01   \n",
            "36                37         NaN         8.0      17.0       2023-03-16   \n",
            "...              ...         ...         ...       ...              ...   \n",
            "9962            9963         NaN        13.0       3.0       2023-03-14   \n",
            "9965            9966         NaN         NaN       2.0       2022-11-13   \n",
            "9972            9973         NaN         NaN      11.0       2021-04-20   \n",
            "9981           10995         NaN         5.0      11.0       2022-03-29   \n",
            "9995           10997         NaN        10.0      11.0       2022-06-05   \n",
            "\n",
            "      Product_Price  Total_Cost  \n",
            "6     133548.749710   1960000.0  \n",
            "11    135382.949609   2520000.0  \n",
            "12     82352.482649   1260000.0  \n",
            "26    124948.881115   2447200.0  \n",
            "36    139881.217277         NaN  \n",
            "...             ...         ...  \n",
            "9962  192970.776088    588000.0  \n",
            "9965   80195.987431    168000.0  \n",
            "9972  120952.884714    386400.0  \n",
            "9981  131297.783516    672000.0  \n",
            "9995  131297.783516    627200.0  \n",
            "\n",
            "[1000 rows x 7 columns]\n"
          ]
        }
      ]
    },
    {
      "cell_type": "code",
      "source": [],
      "metadata": {
        "id": "-AZE6yWyHulL"
      },
      "execution_count": 133,
      "outputs": []
    }
  ]
}